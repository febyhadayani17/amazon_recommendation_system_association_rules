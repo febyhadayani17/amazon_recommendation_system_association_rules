{
 "cells": [
  {
   "cell_type": "markdown",
   "id": "7a8ce841-b23e-481c-8be5-484695f0cc52",
   "metadata": {
    "id": "7a8ce841-b23e-481c-8be5-484695f0cc52"
   },
   "source": [
    "# Analysis Challenge"
   ]
  },
  {
   "cell_type": "code",
   "execution_count": 3,
   "id": "46f7e8f7-a9c7-4e34-bd43-2bc04f6ca93e",
   "metadata": {
    "executionInfo": {
     "elapsed": 1785,
     "status": "ok",
     "timestamp": 1741699591106,
     "user": {
      "displayName": "Feby Hadayani",
      "userId": "00336242773700693372"
     },
     "user_tz": 300
    },
    "id": "46f7e8f7-a9c7-4e34-bd43-2bc04f6ca93e"
   },
   "outputs": [],
   "source": [
    "import pandas as pd\n",
    "import numpy as np\n",
    "import matplotlib.pyplot as plt\n",
    "import seaborn as sns\n",
    "from mlxtend.frequent_patterns import (apriori, association_rules)\n",
    "from mlxtend.preprocessing import TransactionEncoder\n",
    "import ast"
   ]
  },
  {
   "cell_type": "code",
   "execution_count": 4,
   "id": "-75_IYj1-81a",
   "metadata": {
    "colab": {
     "base_uri": "https://localhost:8080/",
     "height": 314
    },
    "executionInfo": {
     "elapsed": 23186,
     "status": "error",
     "timestamp": 1741699614305,
     "user": {
      "displayName": "Feby Hadayani",
      "userId": "00336242773700693372"
     },
     "user_tz": 300
    },
    "id": "-75_IYj1-81a",
    "outputId": "8508ff23-b198-41a4-b75f-17881d8388a2"
   },
   "outputs": [],
   "source": [
    "# from google.colab import drive\n",
    "# drive.mount('/content/drive')"
   ]
  },
  {
   "cell_type": "markdown",
   "id": "eea3855c-11f1-4551-8d7b-96f667ed836e",
   "metadata": {
    "id": "eea3855c-11f1-4551-8d7b-96f667ed836e"
   },
   "source": [
    "### EDA\n",
    "#### Core Ratings Data"
   ]
  },
  {
   "cell_type": "code",
   "execution_count": 6,
   "id": "8e59c9de-5ffc-4cd7-8c17-3b0e5e79fbb7",
   "metadata": {
    "executionInfo": {
     "elapsed": 5135,
     "status": "ok",
     "timestamp": 1741699651303,
     "user": {
      "displayName": "Feby Hadayani",
      "userId": "00336242773700693372"
     },
     "user_tz": 300
    },
    "id": "8e59c9de-5ffc-4cd7-8c17-3b0e5e79fbb7"
   },
   "outputs": [],
   "source": [
    "df = pd.read_csv('Grocery_and_Gourmet_Food.csv')\n",
    "\n",
    "#Olivia's Path\n",
    "#df = pd.read_csv('/content/drive/MyDrive/Quarter 2/Machine Learning/Analysis Group 2/Grocery_and_Gourmet_Food.csv')"
   ]
  },
  {
   "cell_type": "code",
   "execution_count": 7,
   "id": "2864c09e-a4e0-494f-ae8b-30b07a7b95e1",
   "metadata": {
    "colab": {
     "base_uri": "https://localhost:8080/",
     "height": 206
    },
    "executionInfo": {
     "elapsed": 6,
     "status": "ok",
     "timestamp": 1741699651326,
     "user": {
      "displayName": "Feby Hadayani",
      "userId": "00336242773700693372"
     },
     "user_tz": 300
    },
    "id": "2864c09e-a4e0-494f-ae8b-30b07a7b95e1",
    "outputId": "6be83c2a-9fda-4a1e-bfe9-d4220cee6ccf"
   },
   "outputs": [
    {
     "data": {
      "text/html": [
       "<div>\n",
       "<style scoped>\n",
       "    .dataframe tbody tr th:only-of-type {\n",
       "        vertical-align: middle;\n",
       "    }\n",
       "\n",
       "    .dataframe tbody tr th {\n",
       "        vertical-align: top;\n",
       "    }\n",
       "\n",
       "    .dataframe thead th {\n",
       "        text-align: right;\n",
       "    }\n",
       "</style>\n",
       "<table border=\"1\" class=\"dataframe\">\n",
       "  <thead>\n",
       "    <tr style=\"text-align: right;\">\n",
       "      <th></th>\n",
       "      <th>user_id</th>\n",
       "      <th>parent_asin</th>\n",
       "      <th>rating</th>\n",
       "      <th>timestamp</th>\n",
       "    </tr>\n",
       "  </thead>\n",
       "  <tbody>\n",
       "    <tr>\n",
       "      <th>0</th>\n",
       "      <td>AFKZENTNBQ7A7V7UXW5JJI6UGRYQ</td>\n",
       "      <td>B004OT1TA8</td>\n",
       "      <td>5.0</td>\n",
       "      <td>1441260352000</td>\n",
       "    </tr>\n",
       "    <tr>\n",
       "      <th>1</th>\n",
       "      <td>AFKZENTNBQ7A7V7UXW5JJI6UGRYQ</td>\n",
       "      <td>B01NAYX4S3</td>\n",
       "      <td>5.0</td>\n",
       "      <td>1523093131195</td>\n",
       "    </tr>\n",
       "    <tr>\n",
       "      <th>2</th>\n",
       "      <td>AFKZENTNBQ7A7V7UXW5JJI6UGRYQ</td>\n",
       "      <td>B08KQLCRG7</td>\n",
       "      <td>5.0</td>\n",
       "      <td>1534441227514</td>\n",
       "    </tr>\n",
       "    <tr>\n",
       "      <th>3</th>\n",
       "      <td>AFKZENTNBQ7A7V7UXW5JJI6UGRYQ</td>\n",
       "      <td>B0C5KQVWJL</td>\n",
       "      <td>5.0</td>\n",
       "      <td>1548207240942</td>\n",
       "    </tr>\n",
       "    <tr>\n",
       "      <th>4</th>\n",
       "      <td>AFKZENTNBQ7A7V7UXW5JJI6UGRYQ</td>\n",
       "      <td>B09JP7Q6W8</td>\n",
       "      <td>5.0</td>\n",
       "      <td>1548207988441</td>\n",
       "    </tr>\n",
       "  </tbody>\n",
       "</table>\n",
       "</div>"
      ],
      "text/plain": [
       "                        user_id parent_asin  rating      timestamp\n",
       "0  AFKZENTNBQ7A7V7UXW5JJI6UGRYQ  B004OT1TA8     5.0  1441260352000\n",
       "1  AFKZENTNBQ7A7V7UXW5JJI6UGRYQ  B01NAYX4S3     5.0  1523093131195\n",
       "2  AFKZENTNBQ7A7V7UXW5JJI6UGRYQ  B08KQLCRG7     5.0  1534441227514\n",
       "3  AFKZENTNBQ7A7V7UXW5JJI6UGRYQ  B0C5KQVWJL     5.0  1548207240942\n",
       "4  AFKZENTNBQ7A7V7UXW5JJI6UGRYQ  B09JP7Q6W8     5.0  1548207988441"
      ]
     },
     "execution_count": 7,
     "metadata": {},
     "output_type": "execute_result"
    }
   ],
   "source": [
    "df.head()"
   ]
  },
  {
   "cell_type": "code",
   "execution_count": 8,
   "id": "7dbd15ce-2ed3-4bc2-9f99-4bed99b794bf",
   "metadata": {
    "executionInfo": {
     "elapsed": 194,
     "status": "ok",
     "timestamp": 1741699651522,
     "user": {
      "displayName": "Feby Hadayani",
      "userId": "00336242773700693372"
     },
     "user_tz": 300
    },
    "id": "7dbd15ce-2ed3-4bc2-9f99-4bed99b794bf"
   },
   "outputs": [],
   "source": [
    "df = df[df['timestamp']>=1546300800000]"
   ]
  },
  {
   "cell_type": "code",
   "execution_count": 9,
   "id": "572a2924-27ea-46c9-92df-0f112ca2d59b",
   "metadata": {
    "colab": {
     "base_uri": "https://localhost:8080/",
     "height": 300
    },
    "executionInfo": {
     "elapsed": 236,
     "status": "ok",
     "timestamp": 1741699651757,
     "user": {
      "displayName": "Feby Hadayani",
      "userId": "00336242773700693372"
     },
     "user_tz": 300
    },
    "id": "572a2924-27ea-46c9-92df-0f112ca2d59b",
    "outputId": "d909efe7-5cc9-4b2f-e95c-83490f3d7049"
   },
   "outputs": [
    {
     "data": {
      "text/html": [
       "<div>\n",
       "<style scoped>\n",
       "    .dataframe tbody tr th:only-of-type {\n",
       "        vertical-align: middle;\n",
       "    }\n",
       "\n",
       "    .dataframe tbody tr th {\n",
       "        vertical-align: top;\n",
       "    }\n",
       "\n",
       "    .dataframe thead th {\n",
       "        text-align: right;\n",
       "    }\n",
       "</style>\n",
       "<table border=\"1\" class=\"dataframe\">\n",
       "  <thead>\n",
       "    <tr style=\"text-align: right;\">\n",
       "      <th></th>\n",
       "      <th>rating</th>\n",
       "      <th>timestamp</th>\n",
       "    </tr>\n",
       "  </thead>\n",
       "  <tbody>\n",
       "    <tr>\n",
       "      <th>count</th>\n",
       "      <td>2.425957e+06</td>\n",
       "      <td>2.425957e+06</td>\n",
       "    </tr>\n",
       "    <tr>\n",
       "      <th>mean</th>\n",
       "      <td>4.253622e+00</td>\n",
       "      <td>1.616751e+12</td>\n",
       "    </tr>\n",
       "    <tr>\n",
       "      <th>std</th>\n",
       "      <td>1.299955e+00</td>\n",
       "      <td>3.722036e+10</td>\n",
       "    </tr>\n",
       "    <tr>\n",
       "      <th>min</th>\n",
       "      <td>1.000000e+00</td>\n",
       "      <td>1.546301e+12</td>\n",
       "    </tr>\n",
       "    <tr>\n",
       "      <th>25%</th>\n",
       "      <td>4.000000e+00</td>\n",
       "      <td>1.586717e+12</td>\n",
       "    </tr>\n",
       "    <tr>\n",
       "      <th>50%</th>\n",
       "      <td>5.000000e+00</td>\n",
       "      <td>1.616701e+12</td>\n",
       "    </tr>\n",
       "    <tr>\n",
       "      <th>75%</th>\n",
       "      <td>5.000000e+00</td>\n",
       "      <td>1.648391e+12</td>\n",
       "    </tr>\n",
       "    <tr>\n",
       "      <th>max</th>\n",
       "      <td>5.000000e+00</td>\n",
       "      <td>1.694054e+12</td>\n",
       "    </tr>\n",
       "  </tbody>\n",
       "</table>\n",
       "</div>"
      ],
      "text/plain": [
       "             rating     timestamp\n",
       "count  2.425957e+06  2.425957e+06\n",
       "mean   4.253622e+00  1.616751e+12\n",
       "std    1.299955e+00  3.722036e+10\n",
       "min    1.000000e+00  1.546301e+12\n",
       "25%    4.000000e+00  1.586717e+12\n",
       "50%    5.000000e+00  1.616701e+12\n",
       "75%    5.000000e+00  1.648391e+12\n",
       "max    5.000000e+00  1.694054e+12"
      ]
     },
     "execution_count": 9,
     "metadata": {},
     "output_type": "execute_result"
    }
   ],
   "source": [
    "df.describe()"
   ]
  },
  {
   "cell_type": "code",
   "execution_count": 10,
   "id": "13d40b7a-ddea-4f9b-ad2c-ac5e40a47fd5",
   "metadata": {
    "colab": {
     "base_uri": "https://localhost:8080/",
     "height": 209
    },
    "executionInfo": {
     "elapsed": 1411,
     "status": "ok",
     "timestamp": 1741699653166,
     "user": {
      "displayName": "Feby Hadayani",
      "userId": "00336242773700693372"
     },
     "user_tz": 300
    },
    "id": "13d40b7a-ddea-4f9b-ad2c-ac5e40a47fd5",
    "outputId": "92701ae4-c9a1-49f7-993f-f02bdb37f62f"
   },
   "outputs": [
    {
     "data": {
      "text/plain": [
       "user_id         347773\n",
       "parent_asin     116492\n",
       "rating               5\n",
       "timestamp      2424985\n",
       "dtype: int64"
      ]
     },
     "execution_count": 10,
     "metadata": {},
     "output_type": "execute_result"
    }
   ],
   "source": [
    "df.nunique()"
   ]
  },
  {
   "cell_type": "code",
   "execution_count": 11,
   "id": "5eaf0258-8d4c-4bdc-929a-4298f9963229",
   "metadata": {
    "executionInfo": {
     "elapsed": 1169,
     "status": "ok",
     "timestamp": 1741699654336,
     "user": {
      "displayName": "Feby Hadayani",
      "userId": "00336242773700693372"
     },
     "user_tz": 300
    },
    "id": "5eaf0258-8d4c-4bdc-929a-4298f9963229"
   },
   "outputs": [],
   "source": [
    "user_count = df.groupby('user_id').size()\n",
    "ratings_distribution = user_count.value_counts().sort_index()"
   ]
  },
  {
   "cell_type": "code",
   "execution_count": 12,
   "id": "dcf3a638-bca4-4226-97ef-555e9d2b215d",
   "metadata": {
    "colab": {
     "base_uri": "https://localhost:8080/",
     "height": 607
    },
    "executionInfo": {
     "elapsed": 1384,
     "status": "ok",
     "timestamp": 1741699655719,
     "user": {
      "displayName": "Feby Hadayani",
      "userId": "00336242773700693372"
     },
     "user_tz": 300
    },
    "id": "dcf3a638-bca4-4226-97ef-555e9d2b215d",
    "outputId": "d1d2c11b-8030-4306-d07e-94f07861b236"
   },
   "outputs": [
    {
     "data": {
      "image/png": "[encoded data removed]",
      "text/plain": [
       "<Figure size 1000x600 with 1 Axes>"
      ]
     },
     "metadata": {},
     "output_type": "display_data"
    }
   ],
   "source": [
    "# Plotting the bar plot of the number of ratings by the number of users\n",
    "plt.figure(figsize=(10, 6))\n",
    "plt.bar(ratings_distribution.index, ratings_distribution, color='lightblue', width=0.8)\n",
    "\n",
    "# Add labels and title\n",
    "plt.title('Distribution of Number of Products Reviewed across Users', fontsize=14)\n",
    "plt.xlabel('Number of Reviews per User', fontsize=12)\n",
    "plt.ylabel('Number of Users', fontsize=12)\n",
    "plt.xlim(0,25)\n",
    "plt.xticks(rotation=0)\n",
    "\n",
    "# Improve layout for better spacing\n",
    "plt.tight_layout()\n",
    "\n",
    "# Show the plot\n",
    "# plt.show()\n",
    "plt.savefig('P1.png')"
   ]
  },
  {
   "cell_type": "code",
   "execution_count": 13,
   "id": "9a4812e5-d1f9-4ed5-9002-cd8f287b193d",
   "metadata": {
    "executionInfo": {
     "elapsed": 1350,
     "status": "ok",
     "timestamp": 1741699657072,
     "user": {
      "displayName": "Feby Hadayani",
      "userId": "00336242773700693372"
     },
     "user_tz": 300
    },
    "id": "9a4812e5-d1f9-4ed5-9002-cd8f287b193d"
   },
   "outputs": [],
   "source": [
    "average_ratings = df.groupby('parent_asin')['rating'].mean()"
   ]
  },
  {
   "cell_type": "code",
   "execution_count": 14,
   "id": "0f4d67f9-4b54-4735-9896-223b33084f02",
   "metadata": {
    "colab": {
     "base_uri": "https://localhost:8080/",
     "height": 607
    },
    "executionInfo": {
     "elapsed": 678,
     "status": "ok",
     "timestamp": 1741699657741,
     "user": {
      "displayName": "Feby Hadayani",
      "userId": "00336242773700693372"
     },
     "user_tz": 300
    },
    "id": "0f4d67f9-4b54-4735-9896-223b33084f02",
    "outputId": "4ead4575-5a8f-40a4-f422-e22d00f6b08a"
   },
   "outputs": [
    {
     "data": {
      "image/png": "[encoded data removed]",
      "text/plain": [
       "<Figure size 1000x600 with 1 Axes>"
      ]
     },
     "metadata": {},
     "output_type": "display_data"
    }
   ],
   "source": [
    "bins = [round(i * 0.2, 1) for i in range(5, 26)]\n",
    "\n",
    "plt.figure(figsize=(10, 6))\n",
    "plt.hist(average_ratings, bins=bins, edgecolor='black', color='lightcoral')\n",
    "\n",
    "plt.title('Distribution of Average Ratings for Products', fontsize=14)\n",
    "plt.xlabel('Average Rating', fontsize=12)\n",
    "plt.ylabel('Number of Products', fontsize=12)\n",
    "plt.xticks(rotation=0)\n",
    "plt.tight_layout()\n",
    "\n",
    "# Show the plot\n",
    "# plt.show()\n",
    "plt.savefig('P2.png')"
   ]
  },
  {
   "cell_type": "code",
   "execution_count": 15,
   "id": "e6ac429a-f079-49cd-baaf-0b3fc62e6a58",
   "metadata": {
    "colab": {
     "base_uri": "https://localhost:8080/",
     "height": 607
    },
    "executionInfo": {
     "elapsed": 3520,
     "status": "ok",
     "timestamp": 1741699661259,
     "user": {
      "displayName": "Feby Hadayani",
      "userId": "00336242773700693372"
     },
     "user_tz": 300
    },
    "id": "e6ac429a-f079-49cd-baaf-0b3fc62e6a58",
    "outputId": "171af63c-6bd5-44b2-eaf3-f6e06e4d66e1"
   },
   "outputs": [
    {
     "data": {
      "image/png": "[encoded data removed]",
      "text/plain": [
       "<Figure size 1000x600 with 1 Axes>"
      ]
     },
     "metadata": {},
     "output_type": "display_data"
    }
   ],
   "source": [
    "num_ratings = df.groupby('parent_asin')['rating'].count()\n",
    "product_stats = pd.DataFrame({\n",
    "    'average_rating': average_ratings,\n",
    "    'num_ratings': num_ratings\n",
    "})\n",
    "\n",
    "# Step 4: Plot a scatter plot of average ratings vs. number of ratings\n",
    "plt.figure(figsize=(10, 6))\n",
    "plt.scatter(product_stats['num_ratings'], product_stats['average_rating'], color='lightblue')\n",
    "\n",
    "# Step 5: Customize the plot\n",
    "plt.title('Average Rating vs. Number of Ratings for Products', fontsize=14)\n",
    "plt.xlabel('Number of Ratings', fontsize=12)\n",
    "plt.ylabel('Average Rating', fontsize=12)\n",
    "plt.tight_layout()\n",
    "\n",
    "# Show the plot\n",
    "# plt.show()\n",
    "plt.savefig('P3.png')"
   ]
  },
  {
   "cell_type": "markdown",
   "id": "f513d9b9-8190-4d3e-b70a-18394c15072e",
   "metadata": {
    "id": "f513d9b9-8190-4d3e-b70a-18394c15072e"
   },
   "source": [
    "#### Items Metadata"
   ]
  },
  {
   "cell_type": "code",
   "execution_count": 17,
   "id": "3304ded2-3160-4519-951c-9234aaff2ff1",
   "metadata": {
    "colab": {
     "base_uri": "https://localhost:8080/"
    },
    "executionInfo": {
     "elapsed": 17275,
     "status": "ok",
     "timestamp": 1741699772023,
     "user": {
      "displayName": "Feby Hadayani",
      "userId": "00336242773700693372"
     },
     "user_tz": 300
    },
    "id": "3304ded2-3160-4519-951c-9234aaff2ff1",
    "outputId": "1b89eb6c-8a06-4f9a-ccf5-89b6a459b19b"
   },
   "outputs": [],
   "source": [
    "import json\n",
    "\n",
    "#Olivia's path\n",
    "#file = '/content/drive/MyDrive/Quarter 2/Machine Learning/Analysis Group 2/meta_Grocery_and_Gourmet_Food.jsonl'\n",
    "\n",
    "file = 'meta_Grocery_and_Gourmet_Food.jsonl'\n",
    "data = []\n",
    "with open(file) as f:\n",
    "    for l in f:\n",
    "        data.append(json.loads(l.strip()))"
   ]
  },
  {
   "cell_type": "code",
   "execution_count": 18,
   "id": "821bcc36-15b4-4883-94fa-04b995f29f87",
   "metadata": {
    "executionInfo": {
     "elapsed": 2056,
     "status": "ok",
     "timestamp": 1741699774076,
     "user": {
      "displayName": "Feby Hadayani",
      "userId": "00336242773700693372"
     },
     "user_tz": 300
    },
    "id": "821bcc36-15b4-4883-94fa-04b995f29f87"
   },
   "outputs": [],
   "source": [
    "data = pd.DataFrame.from_dict(data)"
   ]
  },
  {
   "cell_type": "code",
   "execution_count": 19,
   "id": "0b98c0d7-bdbd-428a-9dc0-077015896f0d",
   "metadata": {
    "colab": {
     "base_uri": "https://localhost:8080/",
     "height": 570
    },
    "executionInfo": {
     "elapsed": 78,
     "status": "ok",
     "timestamp": 1741699774169,
     "user": {
      "displayName": "Feby Hadayani",
      "userId": "00336242773700693372"
     },
     "user_tz": 300
    },
    "id": "0b98c0d7-bdbd-428a-9dc0-077015896f0d",
    "outputId": "916d7ef3-106b-4d31-b2cd-6de204f37ae5"
   },
   "outputs": [
    {
     "data": {
      "text/html": [
       "<div>\n",
       "<style scoped>\n",
       "    .dataframe tbody tr th:only-of-type {\n",
       "        vertical-align: middle;\n",
       "    }\n",
       "\n",
       "    .dataframe tbody tr th {\n",
       "        vertical-align: top;\n",
       "    }\n",
       "\n",
       "    .dataframe thead th {\n",
       "        text-align: right;\n",
       "    }\n",
       "</style>\n",
       "<table border=\"1\" class=\"dataframe\">\n",
       "  <thead>\n",
       "    <tr style=\"text-align: right;\">\n",
       "      <th></th>\n",
       "      <th>main_category</th>\n",
       "      <th>title</th>\n",
       "      <th>average_rating</th>\n",
       "      <th>rating_number</th>\n",
       "      <th>features</th>\n",
       "      <th>description</th>\n",
       "      <th>price</th>\n",
       "      <th>images</th>\n",
       "      <th>videos</th>\n",
       "      <th>store</th>\n",
       "      <th>categories</th>\n",
       "      <th>details</th>\n",
       "      <th>parent_asin</th>\n",
       "      <th>bought_together</th>\n",
       "      <th>subtitle</th>\n",
       "      <th>author</th>\n",
       "    </tr>\n",
       "  </thead>\n",
       "  <tbody>\n",
       "    <tr>\n",
       "      <th>0</th>\n",
       "      <td>Grocery</td>\n",
       "      <td>Dark Roast Pure Coffee</td>\n",
       "      <td>4.7</td>\n",
       "      <td>9</td>\n",
       "      <td>[]</td>\n",
       "      <td>[]</td>\n",
       "      <td>None</td>\n",
       "      <td>[{'thumb': 'https://m.media-amazon.com/images/...</td>\n",
       "      <td>[{'title': 'YouCut_20220Cafe Du Monde Coffee C...</td>\n",
       "      <td>Luzianne</td>\n",
       "      <td>[Grocery &amp; Gourmet Food, Beverages, Coffee]</td>\n",
       "      <td>{'Brand': 'Luzianne', 'Item Form': 'Ground', '...</td>\n",
       "      <td>B00NE08WM6</td>\n",
       "      <td>None</td>\n",
       "      <td>NaN</td>\n",
       "      <td>NaN</td>\n",
       "    </tr>\n",
       "    <tr>\n",
       "      <th>1</th>\n",
       "      <td>Grocery</td>\n",
       "      <td>PICARAS Galletas Peruanas Bañadas en Chocolate...</td>\n",
       "      <td>4.5</td>\n",
       "      <td>12</td>\n",
       "      <td>[2 Bags of PICARAS Galletas Bañadas en Chocola...</td>\n",
       "      <td>[2 Bags of PICARAS Galletas Bañadas en Chocola...</td>\n",
       "      <td>15.99</td>\n",
       "      <td>[{'thumb': 'https://m.media-amazon.com/images/...</td>\n",
       "      <td>[]</td>\n",
       "      <td>Winters</td>\n",
       "      <td>[Grocery &amp; Gourmet Food, Breads &amp; Bakery, Cook...</td>\n",
       "      <td>{'Flavor': 'chocolate', 'Unit Count': '12.00 C...</td>\n",
       "      <td>B084Q13Q5Q</td>\n",
       "      <td>None</td>\n",
       "      <td>NaN</td>\n",
       "      <td>NaN</td>\n",
       "    </tr>\n",
       "    <tr>\n",
       "      <th>2</th>\n",
       "      <td>Grocery</td>\n",
       "      <td>Chipped Beef and Gravy By Patterson's - Great ...</td>\n",
       "      <td>3.2</td>\n",
       "      <td>5</td>\n",
       "      <td>[Six (6) 8-ounce cans of delicious chipped bee...</td>\n",
       "      <td>[Delicious corned beef gravy is ready when you...</td>\n",
       "      <td>None</td>\n",
       "      <td>[{'thumb': 'https://m.media-amazon.com/images/...</td>\n",
       "      <td>[]</td>\n",
       "      <td>Pattersons</td>\n",
       "      <td>[Grocery &amp; Gourmet Food, Pantry Staples, Canne...</td>\n",
       "      <td>{'Package Dimensions': '8.4 x 5.8 x 3.4 inches...</td>\n",
       "      <td>B00KBRUYVM</td>\n",
       "      <td>None</td>\n",
       "      <td>NaN</td>\n",
       "      <td>NaN</td>\n",
       "    </tr>\n",
       "    <tr>\n",
       "      <th>3</th>\n",
       "      <td>Grocery</td>\n",
       "      <td>Asher's Sugar Free Milk Chocolate Cordial Cher...</td>\n",
       "      <td>5.0</td>\n",
       "      <td>6</td>\n",
       "      <td>[]</td>\n",
       "      <td>[]</td>\n",
       "      <td>29.99</td>\n",
       "      <td>[{'thumb': 'https://m.media-amazon.com/images/...</td>\n",
       "      <td>[{'title': 'No Sugar Added Chocolate Truffles'...</td>\n",
       "      <td>Generic</td>\n",
       "      <td>[Grocery &amp; Gourmet Food, Snacks &amp; Sweets, Choc...</td>\n",
       "      <td>{'Brand': 'Generic', 'Item Form': 'Ball', 'Cho...</td>\n",
       "      <td>B0BN4PW255</td>\n",
       "      <td>None</td>\n",
       "      <td>NaN</td>\n",
       "      <td>NaN</td>\n",
       "    </tr>\n",
       "    <tr>\n",
       "      <th>4</th>\n",
       "      <td>Grocery</td>\n",
       "      <td>Messmer Peppermint 25 bags (6er pack)</td>\n",
       "      <td>3.5</td>\n",
       "      <td>5</td>\n",
       "      <td>[]</td>\n",
       "      <td>[]</td>\n",
       "      <td>29.99</td>\n",
       "      <td>[{'thumb': 'https://m.media-amazon.com/images/...</td>\n",
       "      <td>[]</td>\n",
       "      <td>Messmer</td>\n",
       "      <td>[]</td>\n",
       "      <td>{'Brand': 'Messmer', 'Item Form': 'Teabags', '...</td>\n",
       "      <td>B06X9DC27H</td>\n",
       "      <td>None</td>\n",
       "      <td>NaN</td>\n",
       "      <td>NaN</td>\n",
       "    </tr>\n",
       "  </tbody>\n",
       "</table>\n",
       "</div>"
      ],
      "text/plain": [
       "  main_category                                              title  \\\n",
       "0       Grocery                             Dark Roast Pure Coffee   \n",
       "1       Grocery  PICARAS Galletas Peruanas Bañadas en Chocolate...   \n",
       "2       Grocery  Chipped Beef and Gravy By Patterson's - Great ...   \n",
       "3       Grocery  Asher's Sugar Free Milk Chocolate Cordial Cher...   \n",
       "4       Grocery              Messmer Peppermint 25 bags (6er pack)   \n",
       "\n",
       "   average_rating  rating_number  \\\n",
       "0             4.7              9   \n",
       "1             4.5             12   \n",
       "2             3.2              5   \n",
       "3             5.0              6   \n",
       "4             3.5              5   \n",
       "\n",
       "                                            features  \\\n",
       "0                                                 []   \n",
       "1  [2 Bags of PICARAS Galletas Bañadas en Chocola...   \n",
       "2  [Six (6) 8-ounce cans of delicious chipped bee...   \n",
       "3                                                 []   \n",
       "4                                                 []   \n",
       "\n",
       "                                         description  price  \\\n",
       "0                                                 []   None   \n",
       "1  [2 Bags of PICARAS Galletas Bañadas en Chocola...  15.99   \n",
       "2  [Delicious corned beef gravy is ready when you...   None   \n",
       "3                                                 []  29.99   \n",
       "4                                                 []  29.99   \n",
       "\n",
       "                                              images  \\\n",
       "0  [{'thumb': 'https://m.media-amazon.com/images/...   \n",
       "1  [{'thumb': 'https://m.media-amazon.com/images/...   \n",
       "2  [{'thumb': 'https://m.media-amazon.com/images/...   \n",
       "3  [{'thumb': 'https://m.media-amazon.com/images/...   \n",
       "4  [{'thumb': 'https://m.media-amazon.com/images/...   \n",
       "\n",
       "                                              videos       store  \\\n",
       "0  [{'title': 'YouCut_20220Cafe Du Monde Coffee C...    Luzianne   \n",
       "1                                                 []     Winters   \n",
       "2                                                 []  Pattersons   \n",
       "3  [{'title': 'No Sugar Added Chocolate Truffles'...     Generic   \n",
       "4                                                 []     Messmer   \n",
       "\n",
       "                                          categories  \\\n",
       "0        [Grocery & Gourmet Food, Beverages, Coffee]   \n",
       "1  [Grocery & Gourmet Food, Breads & Bakery, Cook...   \n",
       "2  [Grocery & Gourmet Food, Pantry Staples, Canne...   \n",
       "3  [Grocery & Gourmet Food, Snacks & Sweets, Choc...   \n",
       "4                                                 []   \n",
       "\n",
       "                                             details parent_asin  \\\n",
       "0  {'Brand': 'Luzianne', 'Item Form': 'Ground', '...  B00NE08WM6   \n",
       "1  {'Flavor': 'chocolate', 'Unit Count': '12.00 C...  B084Q13Q5Q   \n",
       "2  {'Package Dimensions': '8.4 x 5.8 x 3.4 inches...  B00KBRUYVM   \n",
       "3  {'Brand': 'Generic', 'Item Form': 'Ball', 'Cho...  B0BN4PW255   \n",
       "4  {'Brand': 'Messmer', 'Item Form': 'Teabags', '...  B06X9DC27H   \n",
       "\n",
       "  bought_together subtitle author  \n",
       "0            None      NaN    NaN  \n",
       "1            None      NaN    NaN  \n",
       "2            None      NaN    NaN  \n",
       "3            None      NaN    NaN  \n",
       "4            None      NaN    NaN  "
      ]
     },
     "execution_count": 19,
     "metadata": {},
     "output_type": "execute_result"
    }
   ],
   "source": [
    "data.head()"
   ]
  },
  {
   "cell_type": "code",
   "execution_count": 20,
   "id": "cb9d0ddf-11a9-49bd-83cd-0fe12139b2db",
   "metadata": {
    "colab": {
     "base_uri": "https://localhost:8080/"
    },
    "executionInfo": {
     "elapsed": 28,
     "status": "ok",
     "timestamp": 1741699774700,
     "user": {
      "displayName": "Feby Hadayani",
      "userId": "00336242773700693372"
     },
     "user_tz": 300
    },
    "id": "cb9d0ddf-11a9-49bd-83cd-0fe12139b2db",
    "outputId": "b815652b-3bf3-4460-cea5-428ffd1ebf59"
   },
   "outputs": [
    {
     "name": "stdout",
     "output_type": "stream",
     "text": [
      "<class 'pandas.core.frame.DataFrame'>\n",
      "RangeIndex: 603274 entries, 0 to 603273\n",
      "Data columns (total 16 columns):\n",
      " #   Column           Non-Null Count   Dtype  \n",
      "---  ------           --------------   -----  \n",
      " 0   main_category    595314 non-null  object \n",
      " 1   title            603274 non-null  object \n",
      " 2   average_rating   603274 non-null  float64\n",
      " 3   rating_number    603274 non-null  int64  \n",
      " 4   features         603274 non-null  object \n",
      " 5   description      603274 non-null  object \n",
      " 6   price            224319 non-null  object \n",
      " 7   images           603274 non-null  object \n",
      " 8   videos           603274 non-null  object \n",
      " 9   store            585994 non-null  object \n",
      " 10  categories       603274 non-null  object \n",
      " 11  details          603274 non-null  object \n",
      " 12  parent_asin      603274 non-null  object \n",
      " 13  bought_together  0 non-null       object \n",
      " 14  subtitle         20 non-null      object \n",
      " 15  author           17 non-null      object \n",
      "dtypes: float64(1), int64(1), object(14)\n",
      "memory usage: 73.6+ MB\n"
     ]
    }
   ],
   "source": [
    "data.info()"
   ]
  },
  {
   "cell_type": "markdown",
   "id": "2f985bb9-8aed-4561-b4e4-c3fa1fd607bc",
   "metadata": {
    "id": "2f985bb9-8aed-4561-b4e4-c3fa1fd607bc"
   },
   "source": [
    "#### Data Preprocessing"
   ]
  },
  {
   "cell_type": "code",
   "execution_count": 22,
   "id": "15c42690-bbc2-4a84-b0e3-7f40a3714ffa",
   "metadata": {
    "executionInfo": {
     "elapsed": 6264,
     "status": "ok",
     "timestamp": 1741699780966,
     "user": {
      "displayName": "Feby Hadayani",
      "userId": "00336242773700693372"
     },
     "user_tz": 300
    },
    "id": "15c42690-bbc2-4a84-b0e3-7f40a3714ffa"
   },
   "outputs": [],
   "source": [
    "# Join two datasets\n",
    "df = pd.merge(df, data, on='parent_asin',how='inner')"
   ]
  },
  {
   "cell_type": "code",
   "execution_count": 23,
   "id": "12bdb61c-c794-4684-a553-b784594b1ee9",
   "metadata": {
    "executionInfo": {
     "elapsed": 354,
     "status": "ok",
     "timestamp": 1741699781318,
     "user": {
      "displayName": "Feby Hadayani",
      "userId": "00336242773700693372"
     },
     "user_tz": 300
    },
    "id": "12bdb61c-c794-4684-a553-b784594b1ee9"
   },
   "outputs": [],
   "source": [
    "df['date']=pd.to_datetime(df['timestamp'],unit='ms')"
   ]
  },
  {
   "cell_type": "code",
   "execution_count": 24,
   "id": "fa2a91ce-ee5e-4113-a27a-ec7c9f5f0407",
   "metadata": {
    "executionInfo": {
     "elapsed": 335,
     "status": "ok",
     "timestamp": 1741699781651,
     "user": {
      "displayName": "Feby Hadayani",
      "userId": "00336242773700693372"
     },
     "user_tz": 300
    },
    "id": "fa2a91ce-ee5e-4113-a27a-ec7c9f5f0407"
   },
   "outputs": [],
   "source": [
    "df['year']=df['date'].dt.year\n",
    "df['month']=df['date'].dt.month\n",
    "df['day']=df['date'].dt.day"
   ]
  },
  {
   "cell_type": "code",
   "execution_count": 25,
   "id": "68440795-ba01-49c7-bfd6-338701545457",
   "metadata": {
    "executionInfo": {
     "elapsed": 909,
     "status": "ok",
     "timestamp": 1741699782558,
     "user": {
      "displayName": "Feby Hadayani",
      "userId": "00336242773700693372"
     },
     "user_tz": 300
    },
    "id": "68440795-ba01-49c7-bfd6-338701545457"
   },
   "outputs": [],
   "source": [
    "df['categories'] = df['categories'].apply(lambda x: ast.literal_eval(x.strip()) if isinstance(x, str) else x)"
   ]
  },
  {
   "cell_type": "code",
   "execution_count": 26,
   "id": "9a0cf731-f75b-44b4-8316-1159cceb9fa9",
   "metadata": {
    "executionInfo": {
     "elapsed": 2028,
     "status": "ok",
     "timestamp": 1741699784583,
     "user": {
      "displayName": "Feby Hadayani",
      "userId": "00336242773700693372"
     },
     "user_tz": 300
    },
    "id": "9a0cf731-f75b-44b4-8316-1159cceb9fa9"
   },
   "outputs": [],
   "source": [
    "# Extract the second layer of subcategory from the list\n",
    "df['second_cat'] = df['categories'].apply(lambda x: x[1] if len(x) > 1 else None)\n",
    "df['last_cat'] = df['categories'].apply(lambda x: x[-1] if len(x) > 0 else None)"
   ]
  },
  {
   "cell_type": "code",
   "execution_count": 27,
   "id": "UYxaFBikV712",
   "metadata": {
    "colab": {
     "base_uri": "https://localhost:8080/",
     "height": 607
    },
    "executionInfo": {
     "elapsed": 981,
     "status": "ok",
     "timestamp": 1741699785988,
     "user": {
      "displayName": "Feby Hadayani",
      "userId": "00336242773700693372"
     },
     "user_tz": 300
    },
    "id": "UYxaFBikV712",
    "outputId": "9e6f64ad-5db3-4a06-e767-69a865de1253"
   },
   "outputs": [
    {
     "data": {
      "image/png": "[encoded data removed]",
      "text/plain": [
       "<Figure size 1200x600 with 2 Axes>"
      ]
     },
     "metadata": {},
     "output_type": "display_data"
    }
   ],
   "source": [
    "import matplotlib.pyplot as plt\n",
    "\n",
    "# Get the top 10 categories by rating count\n",
    "top10_second_cat = df.second_cat.value_counts().head(10)\n",
    "top10_last_cat = df.last_cat.value_counts().head(10)\n",
    "\n",
    "# Create the figure and axes for side-by-side plots\n",
    "fig, axes = plt.subplots(1, 2, figsize=(12, 6))  # 1 row, 2 columns\n",
    "\n",
    "# Plot for the second category\n",
    "axes[0].bar(top10_second_cat.index, top10_second_cat.values, color='skyblue')\n",
    "axes[0].set_title('Top 10 Second Categories Reviewed', fontsize=16)\n",
    "axes[0].set_xlabel(\"Categories\", fontsize=14, labelpad=10)\n",
    "axes[0].set_ylabel(\"Ratings Count\", fontsize=14)\n",
    "axes[0].tick_params(axis='x', rotation=90)\n",
    "\n",
    "# Plot for the last category\n",
    "axes[1].bar(top10_last_cat.index, top10_last_cat.values, color='salmon')\n",
    "axes[1].set_title('Top 10 Last Categories Reviewed', fontsize=16)\n",
    "axes[1].set_xlabel(\"Categories\", fontsize=14, labelpad=10)\n",
    "axes[1].set_ylabel(\"Ratings Count\", fontsize=14)\n",
    "axes[1].tick_params(axis='x', rotation=90)\n",
    "\n",
    "# Adjust the layout to prevent overlap\n",
    "plt.tight_layout()\n",
    "\n",
    "# Show the side-by-side plots\n",
    "plt.show()"
   ]
  },
  {
   "cell_type": "markdown",
   "id": "114b7090-8171-4910-962e-294c2e4713f8",
   "metadata": {
    "id": "114b7090-8171-4910-962e-294c2e4713f8"
   },
   "source": [
    "### Association Rules"
   ]
  },
  {
   "cell_type": "code",
   "execution_count": 29,
   "id": "696f9fde-1a06-4103-acc0-7cedec978d6a",
   "metadata": {
    "executionInfo": {
     "elapsed": 1889,
     "status": "ok",
     "timestamp": 1741699788967,
     "user": {
      "displayName": "Feby Hadayani",
      "userId": "00336242773700693372"
     },
     "user_tz": 300
    },
    "id": "696f9fde-1a06-4103-acc0-7cedec978d6a"
   },
   "outputs": [],
   "source": [
    "#Number of reviews of each user\n",
    "nCustomerPurchase = df.groupby('user_id').size()\n",
    "\n",
    "#Filter out users with > third quartile number of reviews\n",
    "third_quartile = nCustomerPurchase.quantile(0.75)\n",
    "first_quartile = nCustomerPurchase.quantile(0.25)\n",
    "outlier_threshold = third_quartile+1.5*(third_quartile-first_quartile)\n",
    "\n",
    "filtered_users = nCustomerPurchase[nCustomerPurchase <= nCustomerPurchase.quantile(0.995)].index"
   ]
  },
  {
   "cell_type": "code",
   "execution_count": 30,
   "id": "3aabc64f-d502-4d83-b67b-a869aa9837e6",
   "metadata": {},
   "outputs": [
    {
     "data": {
      "text/plain": [
       "56.0"
      ]
     },
     "execution_count": 30,
     "metadata": {},
     "output_type": "execute_result"
    }
   ],
   "source": [
    "nCustomerPurchase.quantile(0.995)"
   ]
  },
  {
   "cell_type": "code",
   "execution_count": 31,
   "id": "473eba34-9440-4588-ac71-94a38286f03e",
   "metadata": {
    "colab": {
     "base_uri": "https://localhost:8080/"
    },
    "executionInfo": {
     "elapsed": 1072,
     "status": "ok",
     "timestamp": 1741699787080,
     "user": {
      "displayName": "Feby Hadayani",
      "userId": "00336242773700693372"
     },
     "user_tz": 300
    },
    "id": "473eba34-9440-4588-ac71-94a38286f03e",
    "outputId": "f78b01a1-b4f7-40d0-8b03-f8c89a3d5b5c"
   },
   "outputs": [
    {
     "name": "stderr",
     "output_type": "stream",
     "text": [
      "/var/folders/kf/8ms7_h8j11bf86d6c5ykldrw0000gn/T/ipykernel_10111/2339853811.py:4: SettingWithCopyWarning: \n",
      "A value is trying to be set on a copy of a slice from a DataFrame\n",
      "\n",
      "See the caveats in the documentation: https://pandas.pydata.org/pandas-docs/stable/user_guide/indexing.html#returning-a-view-versus-a-copy\n",
      "  data.dropna(subset=['second_cat'], inplace=True)\n"
     ]
    }
   ],
   "source": [
    "# Keep only columns relevant for association rule for now\n",
    "data = df[['user_id','parent_asin','year','month','day','second_cat','average_rating','rating_number']]\n",
    "\n",
    "data.dropna(subset=['second_cat'], inplace=True)\n",
    "\n",
    "data = data[data['user_id'].isin(filtered_users)]"
   ]
  },
  {
   "cell_type": "code",
   "execution_count": 32,
   "id": "8d8893d2-8a17-4a9f-ac68-7b68ce912459",
   "metadata": {
    "colab": {
     "base_uri": "https://localhost:8080/"
    },
    "executionInfo": {
     "elapsed": 7,
     "status": "ok",
     "timestamp": 1741699788976,
     "user": {
      "displayName": "Feby Hadayani",
      "userId": "00336242773700693372"
     },
     "user_tz": 300
    },
    "id": "8d8893d2-8a17-4a9f-ac68-7b68ce912459",
    "outputId": "96e36d35-e885-4407-f8ec-656ad730b9e2"
   },
   "outputs": [
    {
     "data": {
      "text/plain": [
       "2177008"
      ]
     },
     "execution_count": 32,
     "metadata": {},
     "output_type": "execute_result"
    }
   ],
   "source": [
    "len(data)"
   ]
  },
  {
   "cell_type": "code",
   "execution_count": 33,
   "id": "cee66306-ea47-4edf-820e-c942d0317053",
   "metadata": {
    "executionInfo": {
     "elapsed": 58491,
     "status": "ok",
     "timestamp": 1741699847480,
     "user": {
      "displayName": "Feby Hadayani",
      "userId": "00336242773700693372"
     },
     "user_tz": 300
    },
    "id": "cee66306-ea47-4edf-820e-c942d0317053"
   },
   "outputs": [],
   "source": [
    "# Create the basket data\n",
    "ListItem = data.groupby(['user_id', 'year','month','day'])['second_cat'].apply(list)\n",
    "ListItem= ListItem[ListItem.apply(lambda x: len(x) > 1)]\n",
    "ListItem = ListItem.values.tolist()"
   ]
  },
  {
   "cell_type": "code",
   "execution_count": 34,
   "id": "2e38a498-8825-4115-8ba4-00239b6089b3",
   "metadata": {
    "colab": {
     "base_uri": "https://localhost:8080/"
    },
    "executionInfo": {
     "elapsed": 10,
     "status": "ok",
     "timestamp": 1741699847506,
     "user": {
      "displayName": "Feby Hadayani",
      "userId": "00336242773700693372"
     },
     "user_tz": 300
    },
    "id": "2e38a498-8825-4115-8ba4-00239b6089b3",
    "outputId": "3fdb8b6c-c0d1-4469-e858-f32af1b8e2e1"
   },
   "outputs": [
    {
     "data": {
      "text/plain": [
       "314752"
      ]
     },
     "execution_count": 34,
     "metadata": {},
     "output_type": "execute_result"
    }
   ],
   "source": [
    "len(ListItem)"
   ]
  },
  {
   "cell_type": "code",
   "execution_count": 35,
   "id": "eb4c30d0-f0e7-4fc3-9633-09fa197c74bd",
   "metadata": {
    "colab": {
     "base_uri": "https://localhost:8080/"
    },
    "executionInfo": {
     "elapsed": 1033,
     "status": "ok",
     "timestamp": 1741699848537,
     "user": {
      "displayName": "Feby Hadayani",
      "userId": "00336242773700693372"
     },
     "user_tz": 300
    },
    "id": "eb4c30d0-f0e7-4fc3-9633-09fa197c74bd",
    "outputId": "1daac8fd-04e5-4a29-eb48-d64f1ab5a9c2"
   },
   "outputs": [
    {
     "name": "stdout",
     "output_type": "stream",
     "text": [
      "314752 165\n"
     ]
    }
   ],
   "source": [
    "# Convert the Item List format to the Item Indicator format\n",
    "te = TransactionEncoder()\n",
    "te_ary = te.fit(ListItem).transform(ListItem)\n",
    "ItemIndicator = pd.DataFrame(te_ary, columns=te.columns_)\n",
    "nCustomer, nProduct = ItemIndicator.shape\n",
    "print(nCustomer, nProduct)"
   ]
  },
  {
   "cell_type": "code",
   "execution_count": 36,
   "id": "ayA96zkq2y6c",
   "metadata": {
    "colab": {
     "base_uri": "https://localhost:8080/",
     "height": 457
    },
    "executionInfo": {
     "elapsed": 18237,
     "status": "ok",
     "timestamp": 1741699866758,
     "user": {
      "displayName": "Feby Hadayani",
      "userId": "00336242773700693372"
     },
     "user_tz": 300
    },
    "id": "ayA96zkq2y6c",
    "outputId": "de20147c-6dbf-4ce8-dbad-3f4911d452db"
   },
   "outputs": [
    {
     "data": {
      "text/html": [
       "<div>\n",
       "<style scoped>\n",
       "    .dataframe tbody tr th:only-of-type {\n",
       "        vertical-align: middle;\n",
       "    }\n",
       "\n",
       "    .dataframe tbody tr th {\n",
       "        vertical-align: top;\n",
       "    }\n",
       "\n",
       "    .dataframe thead th {\n",
       "        text-align: right;\n",
       "    }\n",
       "</style>\n",
       "<table border=\"1\" class=\"dataframe\">\n",
       "  <thead>\n",
       "    <tr style=\"text-align: right;\">\n",
       "      <th></th>\n",
       "      <th>lowest_support</th>\n",
       "      <th>len_frequent_itemsets</th>\n",
       "      <th>len_assoc_rules</th>\n",
       "    </tr>\n",
       "  </thead>\n",
       "  <tbody>\n",
       "    <tr>\n",
       "      <th>0</th>\n",
       "      <td>500/nCustomer</td>\n",
       "      <td>332</td>\n",
       "      <td>233</td>\n",
       "    </tr>\n",
       "    <tr>\n",
       "      <th>1</th>\n",
       "      <td>1000/nCustomer</td>\n",
       "      <td>180</td>\n",
       "      <td>69</td>\n",
       "    </tr>\n",
       "    <tr>\n",
       "      <th>2</th>\n",
       "      <td>1500/nCustomer</td>\n",
       "      <td>123</td>\n",
       "      <td>42</td>\n",
       "    </tr>\n",
       "    <tr>\n",
       "      <th>3</th>\n",
       "      <td>2000/nCustomer</td>\n",
       "      <td>93</td>\n",
       "      <td>23</td>\n",
       "    </tr>\n",
       "    <tr>\n",
       "      <th>4</th>\n",
       "      <td>2500/nCustomer</td>\n",
       "      <td>78</td>\n",
       "      <td>20</td>\n",
       "    </tr>\n",
       "    <tr>\n",
       "      <th>5</th>\n",
       "      <td>3000/nCustomer</td>\n",
       "      <td>66</td>\n",
       "      <td>18</td>\n",
       "    </tr>\n",
       "    <tr>\n",
       "      <th>6</th>\n",
       "      <td>3500/nCustomer</td>\n",
       "      <td>55</td>\n",
       "      <td>13</td>\n",
       "    </tr>\n",
       "    <tr>\n",
       "      <th>7</th>\n",
       "      <td>4000/nCustomer</td>\n",
       "      <td>48</td>\n",
       "      <td>8</td>\n",
       "    </tr>\n",
       "    <tr>\n",
       "      <th>8</th>\n",
       "      <td>4500/nCustomer</td>\n",
       "      <td>44</td>\n",
       "      <td>6</td>\n",
       "    </tr>\n",
       "    <tr>\n",
       "      <th>9</th>\n",
       "      <td>5000/nCustomer</td>\n",
       "      <td>41</td>\n",
       "      <td>6</td>\n",
       "    </tr>\n",
       "    <tr>\n",
       "      <th>10</th>\n",
       "      <td>5500/nCustomer</td>\n",
       "      <td>37</td>\n",
       "      <td>4</td>\n",
       "    </tr>\n",
       "    <tr>\n",
       "      <th>11</th>\n",
       "      <td>6000/nCustomer</td>\n",
       "      <td>35</td>\n",
       "      <td>4</td>\n",
       "    </tr>\n",
       "    <tr>\n",
       "      <th>12</th>\n",
       "      <td>6500/nCustomer</td>\n",
       "      <td>32</td>\n",
       "      <td>3</td>\n",
       "    </tr>\n",
       "  </tbody>\n",
       "</table>\n",
       "</div>"
      ],
      "text/plain": [
       "    lowest_support len_frequent_itemsets len_assoc_rules\n",
       "0    500/nCustomer                   332             233\n",
       "1   1000/nCustomer                   180              69\n",
       "2   1500/nCustomer                   123              42\n",
       "3   2000/nCustomer                    93              23\n",
       "4   2500/nCustomer                    78              20\n",
       "5   3000/nCustomer                    66              18\n",
       "6   3500/nCustomer                    55              13\n",
       "7   4000/nCustomer                    48               8\n",
       "8   4500/nCustomer                    44               6\n",
       "9   5000/nCustomer                    41               6\n",
       "10  5500/nCustomer                    37               4\n",
       "11  6000/nCustomer                    35               4\n",
       "12  6500/nCustomer                    32               3"
      ]
     },
     "execution_count": 36,
     "metadata": {},
     "output_type": "execute_result"
    }
   ],
   "source": [
    "results = pd.DataFrame(columns=['lowest_support', 'len_frequent_itemsets', 'len_assoc_rules'])\n",
    "\n",
    "# Loop through the range of x values\n",
    "for x in np.arange(500, 7000, 500):\n",
    "    lowest_support = x / nCustomer  # Calculate lowest support\n",
    "    frequent_itemsets = apriori(ItemIndicator, min_support=lowest_support, use_colnames=True, max_len=7)\n",
    "    assoc_rules = association_rules(frequent_itemsets, metric=\"confidence\", min_threshold=0.5)\n",
    "\n",
    "    # Append results to the DataFrame\n",
    "    results = pd.concat([results, pd.DataFrame([{\n",
    "        'lowest_support': str(x) + '/nCustomer',\n",
    "        'len_frequent_itemsets': len(frequent_itemsets),\n",
    "        'len_assoc_rules': len(assoc_rules)\n",
    "    }])], ignore_index=True)\n",
    "\n",
    "\n",
    "# Display the final results\n",
    "results"
   ]
  },
  {
   "cell_type": "code",
   "execution_count": 37,
   "id": "yhKa5T9r2wjm",
   "metadata": {
    "colab": {
     "base_uri": "https://localhost:8080/",
     "height": 550
    },
    "executionInfo": {
     "elapsed": 245,
     "status": "ok",
     "timestamp": 1741699867005,
     "user": {
      "displayName": "Feby Hadayani",
      "userId": "00336242773700693372"
     },
     "user_tz": 300
    },
    "id": "yhKa5T9r2wjm",
    "outputId": "41eab779-d446-4496-904a-0ac593811291"
   },
   "outputs": [
    {
     "data": {
      "image/png": "[encoded data removed]",
      "text/plain": [
       "<Figure size 640x480 with 1 Axes>"
      ]
     },
     "metadata": {},
     "output_type": "display_data"
    }
   ],
   "source": [
    "plt.bar(results['lowest_support'], results['len_assoc_rules'], label='Association Rules')\n",
    "plt.xlabel('Lowest Support')\n",
    "plt.xticks(rotation=45)\n",
    "plt.ylabel('Number of Association Rules')\n",
    "plt.title('Number of Association Rules by Lowest Support')\n",
    "plt.show()"
   ]
  },
  {
   "cell_type": "code",
   "execution_count": 38,
   "id": "03617c4a-79a0-48bb-a99e-ca0c4945283e",
   "metadata": {
    "colab": {
     "base_uri": "https://localhost:8080/",
     "height": 458
    },
    "executionInfo": {
     "elapsed": 1187,
     "status": "ok",
     "timestamp": 1741699868191,
     "user": {
      "displayName": "Feby Hadayani",
      "userId": "00336242773700693372"
     },
     "user_tz": 300
    },
    "id": "03617c4a-79a0-48bb-a99e-ca0c4945283e",
    "outputId": "ede7f6dc-d17f-47e0-c3df-a8fe09791f69"
   },
   "outputs": [
    {
     "data": {
      "text/plain": [
       "0                                            (Beverages)\n",
       "1                                      (Breads & Bakery)\n",
       "2                                     (Breakfast Cereal)\n",
       "3                                      (Breakfast Foods)\n",
       "4                                    (Candy & Chocolate)\n",
       "                             ...                        \n",
       "118    (Beverages, Dairy, Eggs & Plant-Based Alternat...\n",
       "119    (Snacks & Sweets, Beverages, Pantry Staples, F...\n",
       "120    (Pantry Staples, Beverages, Produce, Snacks & ...\n",
       "121    (Breads & Bakery, Dairy, Eggs & Plant-Based Al...\n",
       "122    (Snacks & Sweets, Dairy, Eggs & Plant-Based Al...\n",
       "Name: itemsets, Length: 123, dtype: object"
      ]
     },
     "execution_count": 38,
     "metadata": {},
     "output_type": "execute_result"
    }
   ],
   "source": [
    "# Find the frequent itemsets\n",
    "lowest_support = 1500/ nCustomer\n",
    "frequent_itemsets = apriori(ItemIndicator, min_support = lowest_support, use_colnames = True, max_len=7)\n",
    "frequent_itemsets.count()\n",
    "frequent_itemsets['itemsets']"
   ]
  },
  {
   "cell_type": "code",
   "execution_count": 39,
   "id": "712b9530-3daa-422e-b406-7d4d3a8ef79b",
   "metadata": {},
   "outputs": [
    {
     "data": {
      "text/plain": [
       "0.00476565677104514"
      ]
     },
     "execution_count": 39,
     "metadata": {},
     "output_type": "execute_result"
    }
   ],
   "source": [
    "lowest_support"
   ]
  },
  {
   "cell_type": "code",
   "execution_count": 40,
   "id": "ae8c9809-a4fe-4086-b358-725d6f362ec2",
   "metadata": {
    "colab": {
     "base_uri": "https://localhost:8080/",
     "height": 394
    },
    "executionInfo": {
     "elapsed": 22,
     "status": "ok",
     "timestamp": 1741699868210,
     "user": {
      "displayName": "Feby Hadayani",
      "userId": "00336242773700693372"
     },
     "user_tz": 300
    },
    "id": "ae8c9809-a4fe-4086-b358-725d6f362ec2",
    "outputId": "0e387dde-161f-4e7b-8bcf-dbf9e37e2c1e"
   },
   "outputs": [
    {
     "data": {
      "text/html": [
       "<div>\n",
       "<style scoped>\n",
       "    .dataframe tbody tr th:only-of-type {\n",
       "        vertical-align: middle;\n",
       "    }\n",
       "\n",
       "    .dataframe tbody tr th {\n",
       "        vertical-align: top;\n",
       "    }\n",
       "\n",
       "    .dataframe thead th {\n",
       "        text-align: right;\n",
       "    }\n",
       "</style>\n",
       "<table border=\"1\" class=\"dataframe\">\n",
       "  <thead>\n",
       "    <tr style=\"text-align: right;\">\n",
       "      <th></th>\n",
       "      <th>antecedents</th>\n",
       "      <th>consequents</th>\n",
       "      <th>antecedent support</th>\n",
       "      <th>consequent support</th>\n",
       "      <th>support</th>\n",
       "      <th>confidence</th>\n",
       "      <th>lift</th>\n",
       "      <th>representativity</th>\n",
       "      <th>leverage</th>\n",
       "      <th>conviction</th>\n",
       "      <th>zhangs_metric</th>\n",
       "      <th>jaccard</th>\n",
       "      <th>certainty</th>\n",
       "      <th>kulczynski</th>\n",
       "    </tr>\n",
       "  </thead>\n",
       "  <tbody>\n",
       "    <tr>\n",
       "      <th>33</th>\n",
       "      <td>(Breakfast Foods, Beverages, Pantry Staples)</td>\n",
       "      <td>(Snacks &amp; Sweets)</td>\n",
       "      <td>0.010774</td>\n",
       "      <td>0.397799</td>\n",
       "      <td>0.006036</td>\n",
       "      <td>0.560307</td>\n",
       "      <td>1.408517</td>\n",
       "      <td>1.0</td>\n",
       "      <td>0.001751</td>\n",
       "      <td>1.369594</td>\n",
       "      <td>0.293192</td>\n",
       "      <td>0.014996</td>\n",
       "      <td>0.269856</td>\n",
       "      <td>0.287741</td>\n",
       "    </tr>\n",
       "    <tr>\n",
       "      <th>13</th>\n",
       "      <td>(Breads &amp; Bakery, Breakfast Foods)</td>\n",
       "      <td>(Snacks &amp; Sweets)</td>\n",
       "      <td>0.010824</td>\n",
       "      <td>0.397799</td>\n",
       "      <td>0.005906</td>\n",
       "      <td>0.545641</td>\n",
       "      <td>1.371651</td>\n",
       "      <td>1.0</td>\n",
       "      <td>0.001600</td>\n",
       "      <td>1.325387</td>\n",
       "      <td>0.273917</td>\n",
       "      <td>0.014666</td>\n",
       "      <td>0.245503</td>\n",
       "      <td>0.280244</td>\n",
       "    </tr>\n",
       "    <tr>\n",
       "      <th>31</th>\n",
       "      <td>(Beverages, Breads &amp; Bakery, Pantry Staples)</td>\n",
       "      <td>(Snacks &amp; Sweets)</td>\n",
       "      <td>0.018456</td>\n",
       "      <td>0.397799</td>\n",
       "      <td>0.010059</td>\n",
       "      <td>0.545016</td>\n",
       "      <td>1.370080</td>\n",
       "      <td>1.0</td>\n",
       "      <td>0.002717</td>\n",
       "      <td>1.323566</td>\n",
       "      <td>0.275195</td>\n",
       "      <td>0.024763</td>\n",
       "      <td>0.244466</td>\n",
       "      <td>0.285151</td>\n",
       "    </tr>\n",
       "    <tr>\n",
       "      <th>39</th>\n",
       "      <td>(Dairy, Eggs &amp; Plant-Based Alternatives, Bread...</td>\n",
       "      <td>(Snacks &amp; Sweets)</td>\n",
       "      <td>0.010405</td>\n",
       "      <td>0.397799</td>\n",
       "      <td>0.005407</td>\n",
       "      <td>0.519695</td>\n",
       "      <td>1.306426</td>\n",
       "      <td>1.0</td>\n",
       "      <td>0.001268</td>\n",
       "      <td>1.253788</td>\n",
       "      <td>0.237019</td>\n",
       "      <td>0.013425</td>\n",
       "      <td>0.202417</td>\n",
       "      <td>0.266644</td>\n",
       "    </tr>\n",
       "    <tr>\n",
       "      <th>41</th>\n",
       "      <td>(Dairy, Eggs &amp; Plant-Based Alternatives, Froze...</td>\n",
       "      <td>(Pantry Staples)</td>\n",
       "      <td>0.007647</td>\n",
       "      <td>0.604269</td>\n",
       "      <td>0.005306</td>\n",
       "      <td>0.693810</td>\n",
       "      <td>1.148179</td>\n",
       "      <td>1.0</td>\n",
       "      <td>0.000685</td>\n",
       "      <td>1.292434</td>\n",
       "      <td>0.130051</td>\n",
       "      <td>0.008747</td>\n",
       "      <td>0.226266</td>\n",
       "      <td>0.351295</td>\n",
       "    </tr>\n",
       "    <tr>\n",
       "      <th>38</th>\n",
       "      <td>(Beverages, Produce, Snacks &amp; Sweets)</td>\n",
       "      <td>(Pantry Staples)</td>\n",
       "      <td>0.007863</td>\n",
       "      <td>0.604269</td>\n",
       "      <td>0.005442</td>\n",
       "      <td>0.692121</td>\n",
       "      <td>1.145385</td>\n",
       "      <td>1.0</td>\n",
       "      <td>0.000691</td>\n",
       "      <td>1.285345</td>\n",
       "      <td>0.127937</td>\n",
       "      <td>0.008971</td>\n",
       "      <td>0.221999</td>\n",
       "      <td>0.350564</td>\n",
       "    </tr>\n",
       "    <tr>\n",
       "      <th>40</th>\n",
       "      <td>(Dairy, Eggs &amp; Plant-Based Alternatives, Bread...</td>\n",
       "      <td>(Pantry Staples)</td>\n",
       "      <td>0.007828</td>\n",
       "      <td>0.604269</td>\n",
       "      <td>0.005407</td>\n",
       "      <td>0.690747</td>\n",
       "      <td>1.143111</td>\n",
       "      <td>1.0</td>\n",
       "      <td>0.000677</td>\n",
       "      <td>1.279633</td>\n",
       "      <td>0.126182</td>\n",
       "      <td>0.008913</td>\n",
       "      <td>0.218526</td>\n",
       "      <td>0.349848</td>\n",
       "    </tr>\n",
       "    <tr>\n",
       "      <th>36</th>\n",
       "      <td>(Dairy, Eggs &amp; Plant-Based Alternatives, Bever...</td>\n",
       "      <td>(Pantry Staples)</td>\n",
       "      <td>0.010964</td>\n",
       "      <td>0.604269</td>\n",
       "      <td>0.007466</td>\n",
       "      <td>0.680962</td>\n",
       "      <td>1.126918</td>\n",
       "      <td>1.0</td>\n",
       "      <td>0.000841</td>\n",
       "      <td>1.240387</td>\n",
       "      <td>0.113872</td>\n",
       "      <td>0.012285</td>\n",
       "      <td>0.193800</td>\n",
       "      <td>0.346659</td>\n",
       "    </tr>\n",
       "    <tr>\n",
       "      <th>35</th>\n",
       "      <td>(Dairy, Eggs &amp; Plant-Based Alternatives, Bever...</td>\n",
       "      <td>(Pantry Staples)</td>\n",
       "      <td>0.007276</td>\n",
       "      <td>0.604269</td>\n",
       "      <td>0.004925</td>\n",
       "      <td>0.676856</td>\n",
       "      <td>1.120123</td>\n",
       "      <td>1.0</td>\n",
       "      <td>0.000528</td>\n",
       "      <td>1.224626</td>\n",
       "      <td>0.108027</td>\n",
       "      <td>0.008118</td>\n",
       "      <td>0.183424</td>\n",
       "      <td>0.342503</td>\n",
       "    </tr>\n",
       "    <tr>\n",
       "      <th>37</th>\n",
       "      <td>(Beverages, Frozen, Snacks &amp; Sweets)</td>\n",
       "      <td>(Pantry Staples)</td>\n",
       "      <td>0.007736</td>\n",
       "      <td>0.604269</td>\n",
       "      <td>0.005109</td>\n",
       "      <td>0.660370</td>\n",
       "      <td>1.092840</td>\n",
       "      <td>1.0</td>\n",
       "      <td>0.000434</td>\n",
       "      <td>1.165180</td>\n",
       "      <td>0.085615</td>\n",
       "      <td>0.008418</td>\n",
       "      <td>0.141764</td>\n",
       "      <td>0.334412</td>\n",
       "    </tr>\n",
       "  </tbody>\n",
       "</table>\n",
       "</div>"
      ],
      "text/plain": [
       "                                          antecedents        consequents  \\\n",
       "33       (Breakfast Foods, Beverages, Pantry Staples)  (Snacks & Sweets)   \n",
       "13                 (Breads & Bakery, Breakfast Foods)  (Snacks & Sweets)   \n",
       "31       (Beverages, Breads & Bakery, Pantry Staples)  (Snacks & Sweets)   \n",
       "39  (Dairy, Eggs & Plant-Based Alternatives, Bread...  (Snacks & Sweets)   \n",
       "41  (Dairy, Eggs & Plant-Based Alternatives, Froze...   (Pantry Staples)   \n",
       "38              (Beverages, Produce, Snacks & Sweets)   (Pantry Staples)   \n",
       "40  (Dairy, Eggs & Plant-Based Alternatives, Bread...   (Pantry Staples)   \n",
       "36  (Dairy, Eggs & Plant-Based Alternatives, Bever...   (Pantry Staples)   \n",
       "35  (Dairy, Eggs & Plant-Based Alternatives, Bever...   (Pantry Staples)   \n",
       "37               (Beverages, Frozen, Snacks & Sweets)   (Pantry Staples)   \n",
       "\n",
       "    antecedent support  consequent support   support  confidence      lift  \\\n",
       "33            0.010774            0.397799  0.006036    0.560307  1.408517   \n",
       "13            0.010824            0.397799  0.005906    0.545641  1.371651   \n",
       "31            0.018456            0.397799  0.010059    0.545016  1.370080   \n",
       "39            0.010405            0.397799  0.005407    0.519695  1.306426   \n",
       "41            0.007647            0.604269  0.005306    0.693810  1.148179   \n",
       "38            0.007863            0.604269  0.005442    0.692121  1.145385   \n",
       "40            0.007828            0.604269  0.005407    0.690747  1.143111   \n",
       "36            0.010964            0.604269  0.007466    0.680962  1.126918   \n",
       "35            0.007276            0.604269  0.004925    0.676856  1.120123   \n",
       "37            0.007736            0.604269  0.005109    0.660370  1.092840   \n",
       "\n",
       "    representativity  leverage  conviction  zhangs_metric   jaccard  \\\n",
       "33               1.0  0.001751    1.369594       0.293192  0.014996   \n",
       "13               1.0  0.001600    1.325387       0.273917  0.014666   \n",
       "31               1.0  0.002717    1.323566       0.275195  0.024763   \n",
       "39               1.0  0.001268    1.253788       0.237019  0.013425   \n",
       "41               1.0  0.000685    1.292434       0.130051  0.008747   \n",
       "38               1.0  0.000691    1.285345       0.127937  0.008971   \n",
       "40               1.0  0.000677    1.279633       0.126182  0.008913   \n",
       "36               1.0  0.000841    1.240387       0.113872  0.012285   \n",
       "35               1.0  0.000528    1.224626       0.108027  0.008118   \n",
       "37               1.0  0.000434    1.165180       0.085615  0.008418   \n",
       "\n",
       "    certainty  kulczynski  \n",
       "33   0.269856    0.287741  \n",
       "13   0.245503    0.280244  \n",
       "31   0.244466    0.285151  \n",
       "39   0.202417    0.266644  \n",
       "41   0.226266    0.351295  \n",
       "38   0.221999    0.350564  \n",
       "40   0.218526    0.349848  \n",
       "36   0.193800    0.346659  \n",
       "35   0.183424    0.342503  \n",
       "37   0.141764    0.334412  "
      ]
     },
     "execution_count": 40,
     "metadata": {},
     "output_type": "execute_result"
    }
   ],
   "source": [
    "# Discover the association rules\n",
    "assoc_rules = association_rules(frequent_itemsets, metric = \"confidence\", min_threshold = 0.5)\n",
    "assoc_rules.sort_values('lift', ascending=False).head(10)"
   ]
  },
  {
   "cell_type": "code",
   "execution_count": 41,
   "id": "88e40b2e-8765-4bbb-8351-ae0b1f9b1546",
   "metadata": {
    "colab": {
     "base_uri": "https://localhost:8080/",
     "height": 300
    },
    "executionInfo": {
     "elapsed": 28,
     "status": "ok",
     "timestamp": 1741699868238,
     "user": {
      "displayName": "Feby Hadayani",
      "userId": "00336242773700693372"
     },
     "user_tz": 300
    },
    "id": "88e40b2e-8765-4bbb-8351-ae0b1f9b1546",
    "outputId": "1960e5f4-cc61-4b72-8414-ec974efa807d"
   },
   "outputs": [
    {
     "data": {
      "text/html": [
       "<div>\n",
       "<style scoped>\n",
       "    .dataframe tbody tr th:only-of-type {\n",
       "        vertical-align: middle;\n",
       "    }\n",
       "\n",
       "    .dataframe tbody tr th {\n",
       "        vertical-align: top;\n",
       "    }\n",
       "\n",
       "    .dataframe thead th {\n",
       "        text-align: right;\n",
       "    }\n",
       "</style>\n",
       "<table border=\"1\" class=\"dataframe\">\n",
       "  <thead>\n",
       "    <tr style=\"text-align: right;\">\n",
       "      <th></th>\n",
       "      <th>support</th>\n",
       "      <th>consequent support</th>\n",
       "      <th>confidence</th>\n",
       "      <th>lift</th>\n",
       "    </tr>\n",
       "  </thead>\n",
       "  <tbody>\n",
       "    <tr>\n",
       "      <th>count</th>\n",
       "      <td>42.000000</td>\n",
       "      <td>42.000000</td>\n",
       "      <td>42.000000</td>\n",
       "      <td>42.000000</td>\n",
       "    </tr>\n",
       "    <tr>\n",
       "      <th>mean</th>\n",
       "      <td>0.010904</td>\n",
       "      <td>0.584606</td>\n",
       "      <td>0.568148</td>\n",
       "      <td>0.984615</td>\n",
       "    </tr>\n",
       "    <tr>\n",
       "      <th>std</th>\n",
       "      <td>0.009608</td>\n",
       "      <td>0.061343</td>\n",
       "      <td>0.054758</td>\n",
       "      <td>0.153717</td>\n",
       "    </tr>\n",
       "    <tr>\n",
       "      <th>min</th>\n",
       "      <td>0.004791</td>\n",
       "      <td>0.397799</td>\n",
       "      <td>0.505657</td>\n",
       "      <td>0.836808</td>\n",
       "    </tr>\n",
       "    <tr>\n",
       "      <th>25%</th>\n",
       "      <td>0.005515</td>\n",
       "      <td>0.604269</td>\n",
       "      <td>0.534730</td>\n",
       "      <td>0.887633</td>\n",
       "    </tr>\n",
       "    <tr>\n",
       "      <th>50%</th>\n",
       "      <td>0.007423</td>\n",
       "      <td>0.604269</td>\n",
       "      <td>0.548499</td>\n",
       "      <td>0.912239</td>\n",
       "    </tr>\n",
       "    <tr>\n",
       "      <th>75%</th>\n",
       "      <td>0.011970</td>\n",
       "      <td>0.604269</td>\n",
       "      <td>0.575695</td>\n",
       "      <td>1.064415</td>\n",
       "    </tr>\n",
       "    <tr>\n",
       "      <th>max</th>\n",
       "      <td>0.049664</td>\n",
       "      <td>0.604269</td>\n",
       "      <td>0.693810</td>\n",
       "      <td>1.408517</td>\n",
       "    </tr>\n",
       "  </tbody>\n",
       "</table>\n",
       "</div>"
      ],
      "text/plain": [
       "         support  consequent support  confidence       lift\n",
       "count  42.000000           42.000000   42.000000  42.000000\n",
       "mean    0.010904            0.584606    0.568148   0.984615\n",
       "std     0.009608            0.061343    0.054758   0.153717\n",
       "min     0.004791            0.397799    0.505657   0.836808\n",
       "25%     0.005515            0.604269    0.534730   0.887633\n",
       "50%     0.007423            0.604269    0.548499   0.912239\n",
       "75%     0.011970            0.604269    0.575695   1.064415\n",
       "max     0.049664            0.604269    0.693810   1.408517"
      ]
     },
     "execution_count": 41,
     "metadata": {},
     "output_type": "execute_result"
    }
   ],
   "source": [
    "assoc_rules[['support','consequent support','confidence','lift']].describe()"
   ]
  },
  {
   "cell_type": "code",
   "execution_count": 42,
   "id": "3eba3d6a-4c4b-49c5-b409-b1692f7a7588",
   "metadata": {
    "colab": {
     "base_uri": "https://localhost:8080/",
     "height": 1000
    },
    "executionInfo": {
     "elapsed": 466,
     "status": "ok",
     "timestamp": 1741699868705,
     "user": {
      "displayName": "Feby Hadayani",
      "userId": "00336242773700693372"
     },
     "user_tz": 300
    },
    "id": "3eba3d6a-4c4b-49c5-b409-b1692f7a7588",
    "outputId": "42117db1-8776-4781-b3c5-2cd5bf3c7edd"
   },
   "outputs": [
    {
     "data": {
      "image/png": "[encoded data removed]",
      "text/plain": [
       "<Figure size 2000x1200 with 2 Axes>"
      ]
     },
     "metadata": {},
     "output_type": "display_data"
    }
   ],
   "source": [
    "fig, ax = plt.subplots(1, 1, figsize = (10,6), dpi = 200)\n",
    "cs = ax.scatter(assoc_rules['confidence'], assoc_rules['support'], marker = 'o',\n",
    "                c = assoc_rules['lift'], s = 50*assoc_rules['lift'])\n",
    "ax.set_xlabel('Confidence')\n",
    "ax.set_ylabel('Support')\n",
    "ax.grid(axis = 'both', linestyle = ':', alpha = 0.8)\n",
    "fig.colorbar(cs, label = 'Lift', boundaries = np.arange(0.8, 1.45, 0.05))"
   ]
  },
  {
   "cell_type": "markdown",
   "id": "lAYWevHLrMap",
   "metadata": {
    "id": "lAYWevHLrMap"
   },
   "source": [
    "# Filter based on rating"
   ]
  },
  {
   "cell_type": "code",
   "execution_count": 44,
   "id": "VO3bXmwXr-Mj",
   "metadata": {
    "colab": {
     "base_uri": "https://localhost:8080/"
    },
    "executionInfo": {
     "elapsed": 24,
     "status": "ok",
     "timestamp": 1741699868706,
     "user": {
      "displayName": "Feby Hadayani",
      "userId": "00336242773700693372"
     },
     "user_tz": 300
    },
    "id": "VO3bXmwXr-Mj",
    "outputId": "eae895f9-961e-49b5-d8b7-a5ea1cd97bf3"
   },
   "outputs": [
    {
     "data": {
      "text/plain": [
       "['Breakfast Foods',\n",
       " 'Dairy, Eggs & Plant-Based Alternatives',\n",
       " 'Grocery Prime Day 2017',\n",
       " 'Meat & Seafood',\n",
       " 'Produce',\n",
       " 'SNAP EBT on Amazon',\n",
       " 'Beverages',\n",
       " 'Breakfast Foods',\n",
       " 'Dairy, Eggs & Plant-Based Alternatives',\n",
       " 'Beverages',\n",
       " 'Deli & Prepared Foods',\n",
       " 'Beverages',\n",
       " 'Beverages',\n",
       " 'Frozen',\n",
       " 'Beverages',\n",
       " 'Meat & Seafood',\n",
       " 'Beverages',\n",
       " 'Produce',\n",
       " 'Breads & Bakery',\n",
       " 'Breakfast Foods',\n",
       " 'Breads & Bakery',\n",
       " 'Breakfast Foods',\n",
       " 'Dairy, Eggs & Plant-Based Alternatives',\n",
       " 'Breads & Bakery',\n",
       " 'Breads & Bakery',\n",
       " 'Frozen',\n",
       " 'Breads & Bakery',\n",
       " 'Produce',\n",
       " 'Breakfast Foods',\n",
       " 'Snacks & Sweets',\n",
       " 'Dairy, Eggs & Plant-Based Alternatives',\n",
       " 'Deli & Prepared Foods',\n",
       " 'Dairy, Eggs & Plant-Based Alternatives',\n",
       " 'Frozen',\n",
       " 'Dairy, Eggs & Plant-Based Alternatives',\n",
       " 'Meat & Seafood',\n",
       " 'Dairy, Eggs & Plant-Based Alternatives',\n",
       " 'Produce',\n",
       " 'Dairy, Eggs & Plant-Based Alternatives',\n",
       " 'Snacks & Sweets',\n",
       " 'Deli & Prepared Foods',\n",
       " 'Frozen',\n",
       " 'Deli & Prepared Foods',\n",
       " 'Snacks & Sweets',\n",
       " 'Meat & Seafood',\n",
       " 'Frozen',\n",
       " 'Produce',\n",
       " 'Frozen',\n",
       " 'Frozen',\n",
       " 'Snacks & Sweets',\n",
       " 'Meat & Seafood',\n",
       " 'Produce',\n",
       " 'Meat & Seafood',\n",
       " 'Snacks & Sweets',\n",
       " 'Produce',\n",
       " 'Snacks & Sweets',\n",
       " 'Beverages',\n",
       " 'Breads & Bakery',\n",
       " 'Pantry Staples',\n",
       " 'Beverages',\n",
       " 'Breads & Bakery',\n",
       " 'Snacks & Sweets',\n",
       " 'Breakfast Foods',\n",
       " 'Beverages',\n",
       " 'Pantry Staples',\n",
       " 'Beverages',\n",
       " 'Breakfast Foods',\n",
       " 'Snacks & Sweets',\n",
       " 'Dairy, Eggs & Plant-Based Alternatives',\n",
       " 'Beverages',\n",
       " 'Frozen',\n",
       " 'Dairy, Eggs & Plant-Based Alternatives',\n",
       " 'Beverages',\n",
       " 'Snacks & Sweets',\n",
       " 'Beverages',\n",
       " 'Frozen',\n",
       " 'Snacks & Sweets',\n",
       " 'Beverages',\n",
       " 'Produce',\n",
       " 'Snacks & Sweets',\n",
       " 'Dairy, Eggs & Plant-Based Alternatives',\n",
       " 'Breads & Bakery',\n",
       " 'Pantry Staples',\n",
       " 'Dairy, Eggs & Plant-Based Alternatives',\n",
       " 'Breads & Bakery',\n",
       " 'Snacks & Sweets',\n",
       " 'Dairy, Eggs & Plant-Based Alternatives',\n",
       " 'Frozen',\n",
       " 'Snacks & Sweets']"
      ]
     },
     "execution_count": 44,
     "metadata": {},
     "output_type": "execute_result"
    }
   ],
   "source": [
    "consequents_list= [list(frozenset_item) for frozenset_item in assoc_rules['consequents']]\n",
    "consequents_list= [item for sublist in consequents_list for item in sublist]\n",
    "consequents_list\n",
    "\n",
    "antecedents_list= [list(frozenset_item) for frozenset_item in assoc_rules['antecedents']]\n",
    "antecedents_list= [item for sublist in antecedents_list for item in sublist]\n",
    "antecedents_list"
   ]
  },
  {
   "cell_type": "code",
   "execution_count": 45,
   "id": "rWkDZhuzvMiB",
   "metadata": {
    "colab": {
     "base_uri": "https://localhost:8080/"
    },
    "executionInfo": {
     "elapsed": 8,
     "status": "ok",
     "timestamp": 1741699868707,
     "user": {
      "displayName": "Feby Hadayani",
      "userId": "00336242773700693372"
     },
     "user_tz": 300
    },
    "id": "rWkDZhuzvMiB",
    "outputId": "37dd265d-ea91-46d6-f05a-e97a5afbd721"
   },
   "outputs": [
    {
     "data": {
      "text/plain": [
       "42"
      ]
     },
     "execution_count": 45,
     "metadata": {},
     "output_type": "execute_result"
    }
   ],
   "source": [
    "len(consequents_list)"
   ]
  },
  {
   "cell_type": "code",
   "execution_count": 46,
   "id": "DSXiZkFuvP0Y",
   "metadata": {
    "colab": {
     "base_uri": "https://localhost:8080/"
    },
    "executionInfo": {
     "elapsed": 589,
     "status": "ok",
     "timestamp": 1741700048050,
     "user": {
      "displayName": "Feby Hadayani",
      "userId": "00336242773700693372"
     },
     "user_tz": 300
    },
    "id": "DSXiZkFuvP0Y",
    "outputId": "bd862d4d-1324-4bac-b57d-64c57ee6f3fb"
   },
   "outputs": [
    {
     "data": {
      "text/plain": [
       "(1335556, 25)"
      ]
     },
     "execution_count": 46,
     "metadata": {},
     "output_type": "execute_result"
    }
   ],
   "source": [
    "filtered_df=df[df['second_cat'].isin(consequents_list)]\n",
    "filtered_df.shape"
   ]
  },
  {
   "cell_type": "code",
   "execution_count": 47,
   "id": "diPLypzfwGQ2",
   "metadata": {
    "colab": {
     "base_uri": "https://localhost:8080/",
     "height": 423
    },
    "executionInfo": {
     "elapsed": 1722,
     "status": "ok",
     "timestamp": 1741700147182,
     "user": {
      "displayName": "Feby Hadayani",
      "userId": "00336242773700693372"
     },
     "user_tz": 300
    },
    "id": "diPLypzfwGQ2",
    "outputId": "3f016d6e-c4a4-4acf-cf3a-f53fa998031c"
   },
   "outputs": [
    {
     "data": {
      "text/html": [
       "<div>\n",
       "<style scoped>\n",
       "    .dataframe tbody tr th:only-of-type {\n",
       "        vertical-align: middle;\n",
       "    }\n",
       "\n",
       "    .dataframe tbody tr th {\n",
       "        vertical-align: top;\n",
       "    }\n",
       "\n",
       "    .dataframe thead th {\n",
       "        text-align: right;\n",
       "    }\n",
       "</style>\n",
       "<table border=\"1\" class=\"dataframe\">\n",
       "  <thead>\n",
       "    <tr style=\"text-align: right;\">\n",
       "      <th></th>\n",
       "      <th>title</th>\n",
       "      <th>second_cat</th>\n",
       "      <th>rating_number</th>\n",
       "      <th>average_rating</th>\n",
       "      <th>scoring</th>\n",
       "    </tr>\n",
       "  </thead>\n",
       "  <tbody>\n",
       "    <tr>\n",
       "      <th>0</th>\n",
       "      <td>Goldfish Cheddar Crackers, Snack Crackers, 30 ...</td>\n",
       "      <td>Snacks &amp; Sweets</td>\n",
       "      <td>125106.000000</td>\n",
       "      <td>4.800</td>\n",
       "      <td>0.969570</td>\n",
       "    </tr>\n",
       "    <tr>\n",
       "      <th>1</th>\n",
       "      <td>Welch's Mixed Fruit, 0.9 oz, 40 Ct</td>\n",
       "      <td>Snacks &amp; Sweets</td>\n",
       "      <td>97758.000000</td>\n",
       "      <td>4.800</td>\n",
       "      <td>0.820579</td>\n",
       "    </tr>\n",
       "    <tr>\n",
       "      <th>2</th>\n",
       "      <td>Frito-Lay Chips and Quaker Chewy Granola Bars ...</td>\n",
       "      <td>Snacks &amp; Sweets</td>\n",
       "      <td>97009.000000</td>\n",
       "      <td>4.600</td>\n",
       "      <td>0.804499</td>\n",
       "    </tr>\n",
       "    <tr>\n",
       "      <th>3</th>\n",
       "      <td>Quaker Chewy Granola Bars, Oatmeal Raisin, 58 ...</td>\n",
       "      <td>Snacks &amp; Sweets</td>\n",
       "      <td>87155.000000</td>\n",
       "      <td>4.700</td>\n",
       "      <td>0.756815</td>\n",
       "    </tr>\n",
       "    <tr>\n",
       "      <th>4</th>\n",
       "      <td>Orville Redenbacher's Gourmet Popcorn Kernels,...</td>\n",
       "      <td>Snacks &amp; Sweets</td>\n",
       "      <td>82342.000000</td>\n",
       "      <td>4.700</td>\n",
       "      <td>0.730594</td>\n",
       "    </tr>\n",
       "    <tr>\n",
       "      <th>...</th>\n",
       "      <td>...</td>\n",
       "      <td>...</td>\n",
       "      <td>...</td>\n",
       "      <td>...</td>\n",
       "      <td>...</td>\n",
       "    </tr>\n",
       "    <tr>\n",
       "      <th>64703</th>\n",
       "      <td>Starkist Solid White Albacore Tuna in Water, 3...</td>\n",
       "      <td>Pantry Staples</td>\n",
       "      <td>20.000000</td>\n",
       "      <td>2.300</td>\n",
       "      <td>0.138109</td>\n",
       "    </tr>\n",
       "    <tr>\n",
       "      <th>64704</th>\n",
       "      <td>Walden Farms Whipped Peanut Spread, Fat and Ca...</td>\n",
       "      <td>Pantry Staples</td>\n",
       "      <td>1817.833333</td>\n",
       "      <td>1.825</td>\n",
       "      <td>0.119403</td>\n",
       "    </tr>\n",
       "    <tr>\n",
       "      <th>64705</th>\n",
       "      <td>Celeste Frozen Pizza for One, Original Cheese,...</td>\n",
       "      <td>Pantry Staples</td>\n",
       "      <td>53.000000</td>\n",
       "      <td>1.900</td>\n",
       "      <td>0.114289</td>\n",
       "    </tr>\n",
       "    <tr>\n",
       "      <th>64706</th>\n",
       "      <td>Walden Farms Whipped Chocolate Peanut Spread, ...</td>\n",
       "      <td>Pantry Staples</td>\n",
       "      <td>265.000000</td>\n",
       "      <td>1.700</td>\n",
       "      <td>0.103444</td>\n",
       "    </tr>\n",
       "    <tr>\n",
       "      <th>64707</th>\n",
       "      <td>Sunnystreet Waffles Original Flavor Organic Pr...</td>\n",
       "      <td>Pantry Staples</td>\n",
       "      <td>1.000000</td>\n",
       "      <td>1.000</td>\n",
       "      <td>0.060005</td>\n",
       "    </tr>\n",
       "  </tbody>\n",
       "</table>\n",
       "<p>64708 rows × 5 columns</p>\n",
       "</div>"
      ],
      "text/plain": [
       "                                                   title       second_cat  \\\n",
       "0      Goldfish Cheddar Crackers, Snack Crackers, 30 ...  Snacks & Sweets   \n",
       "1                     Welch's Mixed Fruit, 0.9 oz, 40 Ct  Snacks & Sweets   \n",
       "2      Frito-Lay Chips and Quaker Chewy Granola Bars ...  Snacks & Sweets   \n",
       "3      Quaker Chewy Granola Bars, Oatmeal Raisin, 58 ...  Snacks & Sweets   \n",
       "4      Orville Redenbacher's Gourmet Popcorn Kernels,...  Snacks & Sweets   \n",
       "...                                                  ...              ...   \n",
       "64703  Starkist Solid White Albacore Tuna in Water, 3...   Pantry Staples   \n",
       "64704  Walden Farms Whipped Peanut Spread, Fat and Ca...   Pantry Staples   \n",
       "64705  Celeste Frozen Pizza for One, Original Cheese,...   Pantry Staples   \n",
       "64706  Walden Farms Whipped Chocolate Peanut Spread, ...   Pantry Staples   \n",
       "64707  Sunnystreet Waffles Original Flavor Organic Pr...   Pantry Staples   \n",
       "\n",
       "       rating_number  average_rating   scoring  \n",
       "0      125106.000000           4.800  0.969570  \n",
       "1       97758.000000           4.800  0.820579  \n",
       "2       97009.000000           4.600  0.804499  \n",
       "3       87155.000000           4.700  0.756815  \n",
       "4       82342.000000           4.700  0.730594  \n",
       "...              ...             ...       ...  \n",
       "64703      20.000000           2.300  0.138109  \n",
       "64704    1817.833333           1.825  0.119403  \n",
       "64705      53.000000           1.900  0.114289  \n",
       "64706     265.000000           1.700  0.103444  \n",
       "64707       1.000000           1.000  0.060005  \n",
       "\n",
       "[64708 rows x 5 columns]"
      ]
     },
     "execution_count": 47,
     "metadata": {},
     "output_type": "execute_result"
    }
   ],
   "source": [
    "import numpy as np\n",
    "\n",
    "agg_filtered = filtered_df.groupby(['title','second_cat']).agg({'rating_number': 'mean', 'average_rating': 'mean'}).reset_index()\n",
    "\n",
    "max_rating = agg_filtered['average_rating'].max()\n",
    "max_reviews = agg_filtered['rating_number'].max()\n",
    "\n",
    "def calculate_weighted_score(row, rating_weight, review_weight, max_rating, max_reviews):\n",
    "    return (row['average_rating'] / max_rating * rating_weight) + (row['rating_number'] / max_reviews * review_weight)\n",
    "\n",
    "agg_filtered['scoring'] = agg_filtered.apply(calculate_weighted_score, axis=1,\n",
    "                                             rating_weight=0.3, review_weight=0.7,\n",
    "                                             max_rating=max_rating, max_reviews=max_reviews)\n",
    "\n",
    "agg_filtered = agg_filtered.sort_values(by=['second_cat','scoring'], ascending=False).reset_index(drop=True)\n",
    "\n",
    "# Display the resulting DataFrame\n",
    "agg_filtered"
   ]
  },
  {
   "cell_type": "code",
   "execution_count": 105,
   "id": "iyL9vNPFYol3",
   "metadata": {
    "colab": {
     "base_uri": "https://localhost:8080/",
     "height": 363
    },
    "executionInfo": {
     "elapsed": 35,
     "status": "ok",
     "timestamp": 1741700296152,
     "user": {
      "displayName": "Feby Hadayani",
      "userId": "00336242773700693372"
     },
     "user_tz": 300
    },
    "id": "iyL9vNPFYol3",
    "outputId": "d25c7402-e239-4896-d951-c2a037d60a0b"
   },
   "outputs": [
    {
     "data": {
      "text/html": [
       "<div>\n",
       "<style scoped>\n",
       "    .dataframe tbody tr th:only-of-type {\n",
       "        vertical-align: middle;\n",
       "    }\n",
       "\n",
       "    .dataframe tbody tr th {\n",
       "        vertical-align: top;\n",
       "    }\n",
       "\n",
       "    .dataframe thead th {\n",
       "        text-align: right;\n",
       "    }\n",
       "</style>\n",
       "<table border=\"1\" class=\"dataframe\">\n",
       "  <thead>\n",
       "    <tr style=\"text-align: right;\">\n",
       "      <th></th>\n",
       "      <th>title</th>\n",
       "      <th>second_cat</th>\n",
       "      <th>rating_number</th>\n",
       "      <th>average_rating</th>\n",
       "      <th>scoring</th>\n",
       "    </tr>\n",
       "  </thead>\n",
       "  <tbody>\n",
       "    <tr>\n",
       "      <th>0</th>\n",
       "      <td>Goldfish Cheddar Crackers, Snack Crackers, 30 ...</td>\n",
       "      <td>Snacks &amp; Sweets</td>\n",
       "      <td>125106.0</td>\n",
       "      <td>4.8</td>\n",
       "      <td>0.969570</td>\n",
       "    </tr>\n",
       "    <tr>\n",
       "      <th>1</th>\n",
       "      <td>Welch's Mixed Fruit, 0.9 oz, 40 Ct</td>\n",
       "      <td>Snacks &amp; Sweets</td>\n",
       "      <td>97758.0</td>\n",
       "      <td>4.8</td>\n",
       "      <td>0.820579</td>\n",
       "    </tr>\n",
       "    <tr>\n",
       "      <th>2</th>\n",
       "      <td>Frito-Lay Chips and Quaker Chewy Granola Bars ...</td>\n",
       "      <td>Snacks &amp; Sweets</td>\n",
       "      <td>97009.0</td>\n",
       "      <td>4.6</td>\n",
       "      <td>0.804499</td>\n",
       "    </tr>\n",
       "    <tr>\n",
       "      <th>3</th>\n",
       "      <td>Quaker Chewy Granola Bars, Oatmeal Raisin, 58 ...</td>\n",
       "      <td>Snacks &amp; Sweets</td>\n",
       "      <td>87155.0</td>\n",
       "      <td>4.7</td>\n",
       "      <td>0.756815</td>\n",
       "    </tr>\n",
       "    <tr>\n",
       "      <th>4</th>\n",
       "      <td>Orville Redenbacher's Gourmet Popcorn Kernels,...</td>\n",
       "      <td>Snacks &amp; Sweets</td>\n",
       "      <td>82342.0</td>\n",
       "      <td>4.7</td>\n",
       "      <td>0.730594</td>\n",
       "    </tr>\n",
       "    <tr>\n",
       "      <th>5</th>\n",
       "      <td>Ring Pop Bulk Candy Lollipop Variety Party Pac...</td>\n",
       "      <td>Snacks &amp; Sweets</td>\n",
       "      <td>70121.0</td>\n",
       "      <td>4.8</td>\n",
       "      <td>0.670015</td>\n",
       "    </tr>\n",
       "    <tr>\n",
       "      <th>6</th>\n",
       "      <td>Pringles Potato Crisps Chips, Snack Stacks, Lu...</td>\n",
       "      <td>Snacks &amp; Sweets</td>\n",
       "      <td>61809.0</td>\n",
       "      <td>4.7</td>\n",
       "      <td>0.618732</td>\n",
       "    </tr>\n",
       "    <tr>\n",
       "      <th>7</th>\n",
       "      <td>Cheez-It Cheese Crackers, Baked Snack Crackers...</td>\n",
       "      <td>Snacks &amp; Sweets</td>\n",
       "      <td>59702.0</td>\n",
       "      <td>4.8</td>\n",
       "      <td>0.613253</td>\n",
       "    </tr>\n",
       "    <tr>\n",
       "      <th>8</th>\n",
       "      <td>Ferrero Collection Premium Gourmet Assorted Ha...</td>\n",
       "      <td>Snacks &amp; Sweets</td>\n",
       "      <td>54645.0</td>\n",
       "      <td>4.8</td>\n",
       "      <td>0.585703</td>\n",
       "    </tr>\n",
       "    <tr>\n",
       "      <th>9</th>\n",
       "      <td>Mott's Fruit Flavored Snacks, Assorted Fruit, ...</td>\n",
       "      <td>Snacks &amp; Sweets</td>\n",
       "      <td>54499.0</td>\n",
       "      <td>4.7</td>\n",
       "      <td>0.578907</td>\n",
       "    </tr>\n",
       "  </tbody>\n",
       "</table>\n",
       "</div>"
      ],
      "text/plain": [
       "                                               title       second_cat  \\\n",
       "0  Goldfish Cheddar Crackers, Snack Crackers, 30 ...  Snacks & Sweets   \n",
       "1                 Welch's Mixed Fruit, 0.9 oz, 40 Ct  Snacks & Sweets   \n",
       "2  Frito-Lay Chips and Quaker Chewy Granola Bars ...  Snacks & Sweets   \n",
       "3  Quaker Chewy Granola Bars, Oatmeal Raisin, 58 ...  Snacks & Sweets   \n",
       "4  Orville Redenbacher's Gourmet Popcorn Kernels,...  Snacks & Sweets   \n",
       "5  Ring Pop Bulk Candy Lollipop Variety Party Pac...  Snacks & Sweets   \n",
       "6  Pringles Potato Crisps Chips, Snack Stacks, Lu...  Snacks & Sweets   \n",
       "7  Cheez-It Cheese Crackers, Baked Snack Crackers...  Snacks & Sweets   \n",
       "8  Ferrero Collection Premium Gourmet Assorted Ha...  Snacks & Sweets   \n",
       "9  Mott's Fruit Flavored Snacks, Assorted Fruit, ...  Snacks & Sweets   \n",
       "\n",
       "   rating_number  average_rating   scoring  \n",
       "0       125106.0             4.8  0.969570  \n",
       "1        97758.0             4.8  0.820579  \n",
       "2        97009.0             4.6  0.804499  \n",
       "3        87155.0             4.7  0.756815  \n",
       "4        82342.0             4.7  0.730594  \n",
       "5        70121.0             4.8  0.670015  \n",
       "6        61809.0             4.7  0.618732  \n",
       "7        59702.0             4.8  0.613253  \n",
       "8        54645.0             4.8  0.585703  \n",
       "9        54499.0             4.7  0.578907  "
      ]
     },
     "execution_count": 105,
     "metadata": {},
     "output_type": "execute_result"
    }
   ],
   "source": [
    "agg_filtered.query(\"second_cat=='Snacks & Sweets'\").head(10)"
   ]
  },
  {
   "cell_type": "code",
   "execution_count": 49,
   "id": "aUC1HLbhatSd",
   "metadata": {
    "colab": {
     "base_uri": "https://localhost:8080/",
     "height": 363
    },
    "executionInfo": {
     "elapsed": 40,
     "status": "ok",
     "timestamp": 1741700313398,
     "user": {
      "displayName": "Feby Hadayani",
      "userId": "00336242773700693372"
     },
     "user_tz": 300
    },
    "id": "aUC1HLbhatSd",
    "outputId": "062d31ac-dfec-4132-c210-ddac5a125782"
   },
   "outputs": [
    {
     "data": {
      "text/html": [
       "<div>\n",
       "<style scoped>\n",
       "    .dataframe tbody tr th:only-of-type {\n",
       "        vertical-align: middle;\n",
       "    }\n",
       "\n",
       "    .dataframe tbody tr th {\n",
       "        vertical-align: top;\n",
       "    }\n",
       "\n",
       "    .dataframe thead th {\n",
       "        text-align: right;\n",
       "    }\n",
       "</style>\n",
       "<table border=\"1\" class=\"dataframe\">\n",
       "  <thead>\n",
       "    <tr style=\"text-align: right;\">\n",
       "      <th></th>\n",
       "      <th>title</th>\n",
       "      <th>second_cat</th>\n",
       "      <th>rating_number</th>\n",
       "      <th>average_rating</th>\n",
       "      <th>scoring</th>\n",
       "    </tr>\n",
       "  </thead>\n",
       "  <tbody>\n",
       "    <tr>\n",
       "      <th>21819</th>\n",
       "      <td>[Samyang] Carbo Spicy Chicken Fried Cup Noodle...</td>\n",
       "      <td>Pantry Staples</td>\n",
       "      <td>128489.0</td>\n",
       "      <td>4.4</td>\n",
       "      <td>0.964000</td>\n",
       "    </tr>\n",
       "    <tr>\n",
       "      <th>21820</th>\n",
       "      <td>Lakanto Golden Monk Fruit Sweetener with Eryth...</td>\n",
       "      <td>Pantry Staples</td>\n",
       "      <td>112773.0</td>\n",
       "      <td>4.7</td>\n",
       "      <td>0.896380</td>\n",
       "    </tr>\n",
       "    <tr>\n",
       "      <th>21821</th>\n",
       "      <td>Organic Coconut Oil - Unrefined and Cold-Press...</td>\n",
       "      <td>Pantry Staples</td>\n",
       "      <td>96857.0</td>\n",
       "      <td>4.7</td>\n",
       "      <td>0.809671</td>\n",
       "    </tr>\n",
       "    <tr>\n",
       "      <th>21822</th>\n",
       "      <td>Maruchan Ramen Creamy Chicken Flavor, 3 Oz, Pa...</td>\n",
       "      <td>Pantry Staples</td>\n",
       "      <td>74087.0</td>\n",
       "      <td>4.7</td>\n",
       "      <td>0.685621</td>\n",
       "    </tr>\n",
       "    <tr>\n",
       "      <th>21823</th>\n",
       "      <td>Samyang Buldak Carbo Korean Spicy Hot Chicken ...</td>\n",
       "      <td>Pantry Staples</td>\n",
       "      <td>74849.0</td>\n",
       "      <td>4.5</td>\n",
       "      <td>0.677773</td>\n",
       "    </tr>\n",
       "    <tr>\n",
       "      <th>21824</th>\n",
       "      <td>Wonderful Pistachios, Roasted and Salted, 8 Ou...</td>\n",
       "      <td>Pantry Staples</td>\n",
       "      <td>64589.0</td>\n",
       "      <td>4.7</td>\n",
       "      <td>0.633877</td>\n",
       "    </tr>\n",
       "    <tr>\n",
       "      <th>21825</th>\n",
       "      <td>Mike’s Hot Honey–Original &amp; Extra Hot Combo 10...</td>\n",
       "      <td>Pantry Staples</td>\n",
       "      <td>55269.0</td>\n",
       "      <td>4.7</td>\n",
       "      <td>0.583102</td>\n",
       "    </tr>\n",
       "    <tr>\n",
       "      <th>21826</th>\n",
       "      <td>Maggi Masala 2-Minute Noodles India Snack - 24...</td>\n",
       "      <td>Pantry Staples</td>\n",
       "      <td>59627.0</td>\n",
       "      <td>4.3</td>\n",
       "      <td>0.582844</td>\n",
       "    </tr>\n",
       "    <tr>\n",
       "      <th>21827</th>\n",
       "      <td>Maruchan Instant Lunch Lime Chicken Flavor, 2....</td>\n",
       "      <td>Pantry Staples</td>\n",
       "      <td>54937.0</td>\n",
       "      <td>4.6</td>\n",
       "      <td>0.575293</td>\n",
       "    </tr>\n",
       "    <tr>\n",
       "      <th>21828</th>\n",
       "      <td>Heinz, Tomato Ketchup, 14oz Squeeze Bottle (Pa...</td>\n",
       "      <td>Pantry Staples</td>\n",
       "      <td>50263.0</td>\n",
       "      <td>4.8</td>\n",
       "      <td>0.561830</td>\n",
       "    </tr>\n",
       "  </tbody>\n",
       "</table>\n",
       "</div>"
      ],
      "text/plain": [
       "                                                   title      second_cat  \\\n",
       "21819  [Samyang] Carbo Spicy Chicken Fried Cup Noodle...  Pantry Staples   \n",
       "21820  Lakanto Golden Monk Fruit Sweetener with Eryth...  Pantry Staples   \n",
       "21821  Organic Coconut Oil - Unrefined and Cold-Press...  Pantry Staples   \n",
       "21822  Maruchan Ramen Creamy Chicken Flavor, 3 Oz, Pa...  Pantry Staples   \n",
       "21823  Samyang Buldak Carbo Korean Spicy Hot Chicken ...  Pantry Staples   \n",
       "21824  Wonderful Pistachios, Roasted and Salted, 8 Ou...  Pantry Staples   \n",
       "21825  Mike’s Hot Honey–Original & Extra Hot Combo 10...  Pantry Staples   \n",
       "21826  Maggi Masala 2-Minute Noodles India Snack - 24...  Pantry Staples   \n",
       "21827  Maruchan Instant Lunch Lime Chicken Flavor, 2....  Pantry Staples   \n",
       "21828  Heinz, Tomato Ketchup, 14oz Squeeze Bottle (Pa...  Pantry Staples   \n",
       "\n",
       "       rating_number  average_rating   scoring  \n",
       "21819       128489.0             4.4  0.964000  \n",
       "21820       112773.0             4.7  0.896380  \n",
       "21821        96857.0             4.7  0.809671  \n",
       "21822        74087.0             4.7  0.685621  \n",
       "21823        74849.0             4.5  0.677773  \n",
       "21824        64589.0             4.7  0.633877  \n",
       "21825        55269.0             4.7  0.583102  \n",
       "21826        59627.0             4.3  0.582844  \n",
       "21827        54937.0             4.6  0.575293  \n",
       "21828        50263.0             4.8  0.561830  "
      ]
     },
     "execution_count": 49,
     "metadata": {},
     "output_type": "execute_result"
    }
   ],
   "source": [
    "agg_filtered.query(\"second_cat=='Pantry Staples'\").head(10)"
   ]
  }
 ],
 "metadata": {
  "colab": {
   "provenance": []
  },
  "kernelspec": {
   "display_name": "Python 3 (ipykernel)",
   "language": "python",
   "name": "python3"
  },
  "language_info": {
   "codemirror_mode": {
    "name": "ipython",
    "version": 3
   },
   "file_extension": ".py",
   "mimetype": "text/x-python",
   "name": "python",
   "nbconvert_exporter": "python",
   "pygments_lexer": "ipython3",
   "version": "3.12.2"
  }
 },
 "nbformat": 4,
 "nbformat_minor": 5
}
